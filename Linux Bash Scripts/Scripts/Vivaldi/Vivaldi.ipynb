{
 "cells": [
  {
   "cell_type": "code",
   "execution_count": 3,
   "id": "b5f912fa",
   "metadata": {
    "ExecuteTime": {
     "end_time": "2022-09-18T06:05:06.987859Z",
     "start_time": "2022-09-18T06:05:06.985273Z"
    }
   },
   "outputs": [],
   "source": [
    "import os\n",
    "import sys"
   ]
  },
  {
   "cell_type": "code",
   "execution_count": null,
   "id": "b43d05dd",
   "metadata": {
    "ExecuteTime": {
     "end_time": "2022-09-18T06:05:08.083034Z",
     "start_time": "2022-09-18T06:05:08.077093Z"
    }
   },
   "outputs": [],
   "source": [
    "p = 'Profile '\n",
    "comm = 'vivaldi-stable --profile-directory={} --new-window &'\n",
    "inp = str(sys.argv[1])"
   ]
  },
  {
   "cell_type": "code",
   "execution_count": null,
   "id": "1b650b70",
   "metadata": {},
   "outputs": [],
   "source": [
    "if inp ==  'l':\n",
    "    os.system(comm.format('Main'))\n",
    "elif inp == 'm':\n",
    "    os.system(comm.format(p+'1'))\n",
    "elif inp == 'g':\n",
    "    os.system(comm.format(p+'2'))\n",
    "elif inp == 't':\n",
    "    os.system(comm.format(p+'3'))\n",
    "elif inp == 'c':\n",
    "    os.system(comm.format(p+'4'))"
   ]
  }
 ],
 "metadata": {
  "kernelspec": {
   "display_name": "Python 3 (ipykernel)",
   "language": "python",
   "name": "python3"
  },
  "language_info": {
   "codemirror_mode": {
    "name": "ipython",
    "version": 3
   },
   "file_extension": ".py",
   "mimetype": "text/x-python",
   "name": "python",
   "nbconvert_exporter": "python",
   "pygments_lexer": "ipython3",
   "version": "3.9.7"
  },
  "toc": {
   "base_numbering": 1,
   "nav_menu": {},
   "number_sections": true,
   "sideBar": true,
   "skip_h1_title": false,
   "title_cell": "Table of Contents",
   "title_sidebar": "Contents",
   "toc_cell": false,
   "toc_position": {},
   "toc_section_display": true,
   "toc_window_display": false
  },
  "varInspector": {
   "cols": {
    "lenName": 16,
    "lenType": 16,
    "lenVar": 40
   },
   "kernels_config": {
    "python": {
     "delete_cmd_postfix": "",
     "delete_cmd_prefix": "del ",
     "library": "var_list.py",
     "varRefreshCmd": "print(var_dic_list())"
    },
    "r": {
     "delete_cmd_postfix": ") ",
     "delete_cmd_prefix": "rm(",
     "library": "var_list.r",
     "varRefreshCmd": "cat(var_dic_list()) "
    }
   },
   "types_to_exclude": [
    "module",
    "function",
    "builtin_function_or_method",
    "instance",
    "_Feature"
   ],
   "window_display": false
  }
 },
 "nbformat": 4,
 "nbformat_minor": 5
}
