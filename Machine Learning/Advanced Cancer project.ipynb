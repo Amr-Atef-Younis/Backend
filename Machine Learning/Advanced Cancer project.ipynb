{
 "cells": [
  {
   "cell_type": "markdown",
   "metadata": {
    "toc": true
   },
   "source": [
    "<h1>Table of Contents<span class=\"tocSkip\"></span></h1>\n",
    "<div class=\"toc\"><ul class=\"toc-item\"><li><span><a href=\"#Kaggle\" data-toc-modified-id=\"Kaggle-1\"><span class=\"toc-item-num\">1&nbsp;&nbsp;</span>Kaggle</a></span></li><li><span><a href=\"#Imports\" data-toc-modified-id=\"Imports-2\"><span class=\"toc-item-num\">2&nbsp;&nbsp;</span>Imports</a></span></li><li><span><a href=\"#Initializing\" data-toc-modified-id=\"Initializing-3\"><span class=\"toc-item-num\">3&nbsp;&nbsp;</span>Initializing</a></span></li><li><span><a href=\"#Organizing-Data\" data-toc-modified-id=\"Organizing-Data-4\"><span class=\"toc-item-num\">4&nbsp;&nbsp;</span>Organizing Data</a></span></li><li><span><a href=\"#Important-Functions\" data-toc-modified-id=\"Important-Functions-5\"><span class=\"toc-item-num\">5&nbsp;&nbsp;</span>Important Functions</a></span><ul class=\"toc-item\"><li><span><a href=\"#Pipeline\" data-toc-modified-id=\"Pipeline-5.1\"><span class=\"toc-item-num\">5.1&nbsp;&nbsp;</span>Pipeline</a></span></li><li><span><a href=\"#Incase-PCA-was-used\" data-toc-modified-id=\"Incase-PCA-was-used-5.2\"><span class=\"toc-item-num\">5.2&nbsp;&nbsp;</span>Incase PCA was used</a></span></li><li><span><a href=\"#Test-Accuracy\" data-toc-modified-id=\"Test-Accuracy-5.3\"><span class=\"toc-item-num\">5.3&nbsp;&nbsp;</span>Test Accuracy</a></span></li><li><span><a href=\"#Fine-Tunning\" data-toc-modified-id=\"Fine-Tunning-5.4\"><span class=\"toc-item-num\">5.4&nbsp;&nbsp;</span>Fine Tunning</a></span></li><li><span><a href=\"#Set-Parameters\" data-toc-modified-id=\"Set-Parameters-5.5\"><span class=\"toc-item-num\">5.5&nbsp;&nbsp;</span>Set Parameters</a></span></li><li><span><a href=\"#Validation-method\" data-toc-modified-id=\"Validation-method-5.6\"><span class=\"toc-item-num\">5.6&nbsp;&nbsp;</span>Validation method</a></span></li></ul></li><li><span><a href=\"#Classification\" data-toc-modified-id=\"Classification-6\"><span class=\"toc-item-num\">6&nbsp;&nbsp;</span>Classification</a></span></li></ul></div>"
   ]
  },
  {
   "cell_type": "markdown",
   "metadata": {
    "id": "BY58AsiowAjM"
   },
   "source": [
    "# Kaggle"
   ]
  },
  {
   "cell_type": "code",
   "execution_count": 1,
   "metadata": {
    "colab": {
     "base_uri": "https://localhost:8080/"
    },
    "id": "aOr2xre0s4Nk",
    "outputId": "961b47f6-ee30-4121-f1b5-44d505c38f29"
   },
   "outputs": [
    {
     "name": "stdout",
     "output_type": "stream",
     "text": [
      "Looking in indexes: https://pypi.org/simple, https://us-python.pkg.dev/colab-wheels/public/simple/\n",
      "Requirement already satisfied: kaggle in /usr/local/lib/python3.7/dist-packages (1.5.12)\n",
      "Requirement already satisfied: six>=1.10 in /usr/local/lib/python3.7/dist-packages (from kaggle) (1.15.0)\n",
      "Requirement already satisfied: python-slugify in /usr/local/lib/python3.7/dist-packages (from kaggle) (6.1.2)\n",
      "Requirement already satisfied: urllib3 in /usr/local/lib/python3.7/dist-packages (from kaggle) (1.24.3)\n",
      "Requirement already satisfied: certifi in /usr/local/lib/python3.7/dist-packages (from kaggle) (2022.9.24)\n",
      "Requirement already satisfied: requests in /usr/local/lib/python3.7/dist-packages (from kaggle) (2.23.0)\n",
      "Requirement already satisfied: python-dateutil in /usr/local/lib/python3.7/dist-packages (from kaggle) (2.8.2)\n",
      "Requirement already satisfied: tqdm in /usr/local/lib/python3.7/dist-packages (from kaggle) (4.64.1)\n",
      "Requirement already satisfied: text-unidecode>=1.3 in /usr/local/lib/python3.7/dist-packages (from python-slugify->kaggle) (1.3)\n",
      "Requirement already satisfied: idna<3,>=2.5 in /usr/local/lib/python3.7/dist-packages (from requests->kaggle) (2.10)\n",
      "Requirement already satisfied: chardet<4,>=3.0.2 in /usr/local/lib/python3.7/dist-packages (from requests->kaggle) (3.0.4)\n",
      "Downloading breast-cancer-gene-expression-cumida.zip to /content\n",
      "\n",
      "Reading package lists...\n",
      "Building dependency tree...\n",
      "Reading state information...\n",
      "unzip is already the newest version (6.0-21ubuntu1.1).\n",
      "The following package was automatically installed and is no longer required:\n",
      "  libnvidia-common-460\n",
      "Use 'apt autoremove' to remove it.\n",
      "0 upgraded, 0 newly installed, 0 to remove and 12 not upgraded.\n"
     ]
    },
    {
     "name": "stderr",
     "output_type": "stream",
     "text": [
      "\r",
      "  0%|          | 0.00/61.5M [00:00<?, ?B/s]\r",
      " 15%|█▍        | 9.00M/61.5M [00:00<00:00, 61.7MB/s]\r",
      " 55%|█████▌    | 34.0M/61.5M [00:00<00:00, 158MB/s] \r",
      " 93%|█████████▎| 57.0M/61.5M [00:00<00:00, 189MB/s]\r",
      "100%|██████████| 61.5M/61.5M [00:00<00:00, 173MB/s]\n",
      "\n",
      "WARNING: apt does not have a stable CLI interface. Use with caution in scripts.\n",
      "\n"
     ]
    }
   ],
   "source": [
    "%%bash\n",
    "pip install kaggle\n",
    "mkdir ~/.kaggle\n",
    "cp kaggle.json ~/.kaggle/\n",
    "chmod 600 ~/.kaggle/kaggle.json\n",
    "kaggle datasets download -d brunogrisci/breast-cancer-gene-expression-cumida\n",
    "apt install unzip\n",
    "mkdir data\n",
    "unzip -q breast-cancer-gene-expression-cumida.zip -d data/"
   ]
  },
  {
   "cell_type": "markdown",
   "metadata": {
    "id": "BzTD90DEwDgy"
   },
   "source": [
    "# Imports"
   ]
  },
  {
   "cell_type": "code",
   "execution_count": 2,
   "metadata": {
    "id": "Z7e-2PSttNfN"
   },
   "outputs": [],
   "source": [
    "import pandas as pd\n",
    "import numpy as np\n",
    "import os\n",
    "import matplotlib.pyplot as plt\n",
    "\n",
    "from sklearn.preprocessing import StandardScaler\n",
    "from sklearn.cluster import KMeans\n",
    "from sklearn.model_selection import train_test_split \n",
    "from sklearn.svm import SVC\n",
    "from sklearn.model_selection import LeaveOneOut\n",
    "from sklearn.model_selection import cross_validate\n",
    "from sklearn.discriminant_analysis import LinearDiscriminantAnalysis\n",
    "from sklearn.decomposition import PCA\n",
    "from sklearn.metrics import silhouette_score, adjusted_rand_score\n",
    "from sklearn.pipeline import Pipeline\n",
    "from sklearn.preprocessing import LabelEncoder, MinMaxScaler\n"
   ]
  },
  {
   "cell_type": "markdown",
   "metadata": {
    "id": "x_cN1TsY_a7K"
   },
   "source": [
    "# Initializing"
   ]
  },
  {
   "cell_type": "code",
   "execution_count": 3,
   "metadata": {
    "id": "qhaR_Wdk_cj7"
   },
   "outputs": [],
   "source": [
    "mms = MinMaxScaler()\n",
    "LE = LabelEncoder()\n",
    "kmeans = KMeans(n_clusters=6, random_state=42)\n",
    "loo = LeaveOneOut()\n",
    "pca = PCA()\n",
    "lda = LinearDiscriminantAnalysis()\n",
    "svc = SVC()\n",
    "ss = StandardScaler()"
   ]
  },
  {
   "cell_type": "markdown",
   "metadata": {
    "id": "zibwo0BVwF3C"
   },
   "source": [
    "# Organizing Data"
   ]
  },
  {
   "cell_type": "code",
   "execution_count": 4,
   "metadata": {
    "colab": {
     "base_uri": "https://localhost:8080/"
    },
    "id": "mVgrnzm2tpX8",
    "outputId": "d1982dd6-311a-4404-cc58-af6a83610d7b"
   },
   "outputs": [
    {
     "data": {
      "text/plain": [
       "0"
      ]
     },
     "execution_count": 4,
     "metadata": {},
     "output_type": "execute_result"
    }
   ],
   "source": [
    "path = 'data/Breast_GSE45827.csv'\n",
    "BC = pd.read_csv(path)\n",
    "data = BC.drop(columns=['samples'])\n",
    "data.isna().sum().sum()"
   ]
  },
  {
   "cell_type": "code",
   "execution_count": 5,
   "metadata": {
    "id": "tZOcuqDX5eNx"
   },
   "outputs": [],
   "source": [
    "def func(data, num):\n",
    "  ds = np.asarray(data)\n",
    "  ln = data.shape[0]\n",
    "  new_ds = ds\n",
    "  for i in range(num):\n",
    "    rnd = np.random.randint(0, ln, ln)\n",
    "    new_ds = new_ds[rnd]\n",
    "  return new_ds"
   ]
  },
  {
   "cell_type": "code",
   "execution_count": 6,
   "metadata": {
    "id": "3G4_kRHM8Wro"
   },
   "outputs": [],
   "source": [
    "num = 7\n",
    "new_ds = func(data, num)"
   ]
  },
  {
   "cell_type": "code",
   "execution_count": 7,
   "metadata": {
    "colab": {
     "base_uri": "https://localhost:8080/"
    },
    "id": "2MH5g_ZIwiQF",
    "outputId": "0b4f108b-0cd2-496c-d9c4-667b6dcac520"
   },
   "outputs": [
    {
     "name": "stdout",
     "output_type": "stream",
     "text": [
      "{'HER': 0, 'basal': 1, 'cell_line': 2, 'luminal_A': 3, 'luminal_B': 4, 'normal': 5}\n"
     ]
    }
   ],
   "source": [
    "features = np.delete(new_ds, 0, 1)\n",
    "labels = new_ds[:,0]\n",
    "\n",
    "\n",
    "LE_labels = LE.fit_transform(labels)\n",
    "\n",
    "\n",
    "labels_dict = dict()\n",
    "\n",
    "for i,label in enumerate(LE.classes_):\n",
    "  labels_dict[label] = i\n",
    "\n",
    "print(labels_dict)\n"
   ]
  },
  {
   "cell_type": "code",
   "execution_count": 8,
   "metadata": {
    "id": "cmwqNgQxwStA"
   },
   "outputs": [],
   "source": [
    "X_train, x_test, Y_train, y_test = train_test_split(features, LE_labels, test_size=30)"
   ]
  },
  {
   "cell_type": "markdown",
   "metadata": {
    "id": "zn_Alh1CTOn1"
   },
   "source": [
    "# Important Functions"
   ]
  },
  {
   "cell_type": "markdown",
   "metadata": {
    "id": "jN657Rvpc4M5"
   },
   "source": [
    "## Pipeline"
   ]
  },
  {
   "cell_type": "code",
   "execution_count": 9,
   "metadata": {
    "id": "PhK1HjAgc6C4"
   },
   "outputs": [],
   "source": [
    "def initialize(ss_transform=True):\n",
    "  mms = MinMaxScaler()\n",
    "  kmeans = KMeans(n_clusters=6, random_state=42)\n",
    "  lda = LinearDiscriminantAnalysis()\n",
    "  svc = SVC()\n",
    "  ss = StandardScaler()\n",
    "  # with_std=False\n",
    "  basic = Pipeline(\n",
    "      [\n",
    "          ('Scaler', ss)\n",
    "      ]\n",
    "  )\n",
    "  preprocess = Pipeline(\n",
    "      [\n",
    "        ('LDA', lda),\n",
    "        ('K-Means',kmeans),        \n",
    "      ]\n",
    "  )\n",
    "\n",
    "  piper = Pipeline(\n",
    "      [\n",
    "        ('Basic', basic),\n",
    "        ('Preprocess', preprocess),\n",
    "        ('Classify', svc)          \n",
    "      ]\n",
    "  )\n",
    "\n",
    "  if ss_transform:\n",
    "    X_train_ss = piper['Basic'].fit_transform(X_train)\n",
    "    x_test_ss = piper['Basic'].transform(x_test)\n",
    "  else:\n",
    "    X_train_ss = X_train\n",
    "    x_test_ss = x_test\n",
    "\n",
    "\n",
    "  piper['Preprocess']['LDA'].fit(X_train_ss, Y_train)\n",
    "  X_train_LDA = piper['Preprocess']['LDA'].transform(X_train_ss)\n",
    "  lda_t = piper['Preprocess']['LDA'].transform(x_test_ss)\n",
    "  return piper, X_train_LDA, lda_t"
   ]
  },
  {
   "cell_type": "markdown",
   "metadata": {
    "id": "JjPhs96CrRuy"
   },
   "source": [
    "## Incase PCA was used"
   ]
  },
  {
   "cell_type": "code",
   "execution_count": 10,
   "metadata": {
    "id": "Ru5xIVgUTN2g"
   },
   "outputs": [],
   "source": [
    "def fixed_transform_PCA(n):\n",
    "  pipe = initialize()\n",
    "  parameters = ['PCA__n_components', 'PCA__svd_solver']\n",
    "  params = dict()\n",
    "  params[parameters[0]] = n\n",
    "  params[parameters[1]] = 'randomized'\n",
    "  pipe['Preprocess'].set_params(**params)\n",
    "\n",
    "  pipe['Preprocess']['PCA'].n_components = n\n",
    "\n",
    "\n",
    "  pca_features_train = pipe['Preprocess']['PCA'].fit_transform(Scaled_features)\n",
    "  \n",
    "\n",
    "  pipe['Preprocess']['K-Means'].fit(pca_features_train)\n",
    "  pred_labels_train = pipe['Preprocess']['K-Means'].labels_\n",
    "  \n",
    "  return pca_features_train, pred_labels_train\n",
    "\n",
    "\n",
    "\n",
    "\n",
    "\n"
   ]
  },
  {
   "cell_type": "markdown",
   "metadata": {
    "id": "jmMfE2coqtsT"
   },
   "source": [
    "## Test Accuracy"
   ]
  },
  {
   "cell_type": "code",
   "execution_count": 11,
   "metadata": {
    "id": "HZgPNveoq1Lf"
   },
   "outputs": [],
   "source": [
    "def acc(pract_test, theor_test, train=False, pract_train=None, theor_train=None, prin=False, val='Test'):\n",
    "\n",
    "  if train:\n",
    "    length_train = theor_train.shape[0]\n",
    "    temp = len([i for i,j in zip(pract_train,theor_train) if i==j])\n",
    "    train_acc = round(temp / length_train,3)\n",
    "    if prin:\n",
    "      print('{}Accuarcy = {}\\t\\tCorrect Samples = {}'.format('train ', round(temp / length_train,3), temp))\n",
    "  else:\n",
    "    train_acc = -1\n",
    "  \n",
    "    length_test = theor_test.shape[0]\n",
    "    if length_test == 1:\n",
    "      if theor_test[0] == pract_test[0]:\n",
    "        test_acc = 1\n",
    "      else:\n",
    "        test_acc = 0\n",
    "      return train_acc, test_acc\n",
    "\n",
    "  if prin:\n",
    "    temp2 = len([i for i,j in zip(pract_test,theor_test) if i==j])\n",
    "    if val == 'Validation':\n",
    "      print('{}Accuarcy\\t=\\t{}\\t\\t# Correct Predictions\\t=\\t{}'.format(val + ' ', round(temp2 / length_test,3), temp2))  \n",
    "    else:\n",
    "      print('{}Accuarcy\\t\\t=\\t{}\\t\\t# Correct Predictions\\t=\\t{}'.format(val + ' ', round(temp2 / length_test,3), temp2))\n",
    "\n",
    "  "
   ]
  },
  {
   "cell_type": "markdown",
   "metadata": {
    "id": "1XnXsTe3q2BB"
   },
   "source": [
    "## Fine Tunning"
   ]
  },
  {
   "cell_type": "markdown",
   "metadata": {
    "id": "x7ifgCx_ZcgJ"
   },
   "source": [
    "#### Tunning PCA"
   ]
  },
  {
   "cell_type": "code",
   "execution_count": 12,
   "metadata": {
    "id": "BeBkAxfveoID"
   },
   "outputs": [],
   "source": [
    "def tunning():\n",
    "  SilScore = []\n",
    "  ARScore = []\n",
    "  first_step = 3\n",
    "  last_step = x_test.shape[0]\n",
    "\n",
    "  for n in range(first_step, last_step):\n",
    "    PCA_features, pred_labels = fixed_transform(n)\n",
    "\n",
    "    score = silhouette_score(PCA_features, pred_labels)\n",
    "    ar = adjusted_rand_score(Y_train, pred_labels)\n",
    "\n",
    "    SilScore.append(score)\n",
    "    ARScore.append(ar)\n",
    "    \n",
    "  return np.argmax(ARScore) + 3\n",
    "\n",
    "def silar(silhouette_scores, adjusted_rand_scores, n, pred_labels_train, predictions):\n",
    "  feat = '{} Features'\n",
    "  \n",
    "  print(feat.format(n))\n",
    "  print('silhouette_score = {}'.format(round(silhouette_scores,3)) )\n",
    "  print('adjusted_rand_score = {}'.format(round(adjusted_rand_scores,3)))\n",
    "  acc((pred_labels_train, predictions))\n",
    "\n",
    "\n"
   ]
  },
  {
   "cell_type": "markdown",
   "metadata": {
    "id": "tj3vHGHSsnrl"
   },
   "source": [
    "## Set Parameters"
   ]
  },
  {
   "cell_type": "code",
   "execution_count": 15,
   "metadata": {
    "id": "aP-MyYjOswyS"
   },
   "outputs": [],
   "source": [
    "def SVCsetparams(weights, piper):\n",
    "  par = dict()\n",
    "  for m,k in enumerate(weights):\n",
    "    par[m] = k\n",
    "  params = {'class_weight': par}\n",
    "  piper['Classify'].set_params(**params)"
   ]
  },
  {
   "cell_type": "markdown",
   "metadata": {
    "id": "gdEWFi4StFE5"
   },
   "source": [
    "## Validation method"
   ]
  },
  {
   "cell_type": "code",
   "execution_count": 16,
   "metadata": {
    "id": "sSfzRrpNtMBK"
   },
   "outputs": [],
   "source": [
    "def Val(X_train_LDA, piper):\n",
    "  ls = []\n",
    "  for train_index, val_index in loo.split(X_train_LDA):\n",
    "    x_train, y_train = X_train_LDA[train_index], Y_train[train_index]\n",
    "    x_val, y_val = X_train_LDA[val_index], Y_train[val_index]\n",
    "\n",
    "    piper['Classify'].fit(x_train, y_train)\n",
    "\n",
    "    pred_val = piper['Classify'].predict(x_val)\n",
    "\n",
    "    \n",
    "    _ , single_val_acc = acc(pred_val, y_val)\n",
    "    ls.append(single_val_acc)\n",
    "  val_acc = round(np.sum(ls) / len(ls), 3)\n",
    "  print('Validation Accuracy\\t=\\t{}\\t\\t# Correct Predictions\\t=\\t{}'.format(val_acc, np.sum(ls)))\n",
    "\n",
    "  return pipe['Classify'].class_weight_\n",
    "\n"
   ]
  },
  {
   "cell_type": "markdown",
   "metadata": {
    "id": "XG5SIbtt3iSy"
   },
   "source": [
    "# Classification"
   ]
  },
  {
   "cell_type": "code",
   "execution_count": 17,
   "metadata": {
    "colab": {
     "base_uri": "https://localhost:8080/"
    },
    "id": "RUlNq9BT3hpd",
    "outputId": "3c563f16-dec7-4f92-f2cf-444a45855fe0"
   },
   "outputs": [
    {
     "name": "stdout",
     "output_type": "stream",
     "text": [
      "total # of train Samples = 121\t\ttotal # of test Samples = 30\n",
      "\n",
      "\n",
      "Standard Scaler: True\n",
      "\n",
      "\n",
      "\n",
      "\n",
      "\t\tSVC(class_weight='None')\n",
      "\n",
      "\n",
      "Validation Accuracy\t=\t0.917\t\t# Correct Predictions\t=\t111\n",
      "\n",
      "\n",
      "Test Accuarcy\t\t=\t0.933\t\t# Correct Predictions\t=\t28\n",
      "\n",
      "\n",
      "\n",
      "\t\tSVC(class_weight='balanced')\n",
      "\n",
      "\n",
      "Validation Accuracy\t=\t0.934\t\t# Correct Predictions\t=\t113\n",
      "\n",
      "\n",
      "Test Accuarcy\t\t=\t0.933\t\t# Correct Predictions\t=\t28\n",
      "\n",
      "\n",
      "\n",
      "\t\tSVC(probability=True)\n",
      "\n",
      "\n",
      "Validation Accuarcy\t=\t0.983\t\t# Correct Predictions\t=\t119\n",
      "Test Accuarcy\t\t=\t1.0\t\t# Correct Predictions\t=\t30\n",
      "\n",
      "\n",
      "\n",
      "\n",
      "Standard Scaler: False\n",
      "\n",
      "\n",
      "\n",
      "\n",
      "\t\tSVC(class_weight='None')\n",
      "\n",
      "\n",
      "Validation Accuracy\t=\t0.917\t\t# Correct Predictions\t=\t111\n",
      "\n",
      "\n",
      "Test Accuarcy\t\t=\t0.933\t\t# Correct Predictions\t=\t28\n",
      "\n",
      "\n",
      "\n",
      "\t\tSVC(class_weight='balanced')\n",
      "\n",
      "\n",
      "Validation Accuracy\t=\t0.934\t\t# Correct Predictions\t=\t113\n",
      "\n",
      "\n",
      "Test Accuarcy\t\t=\t0.933\t\t# Correct Predictions\t=\t28\n",
      "\n",
      "\n",
      "\n",
      "\t\tSVC(probability=True)\n",
      "\n",
      "\n",
      "Validation Accuarcy\t=\t0.975\t\t# Correct Predictions\t=\t118\n",
      "Test Accuarcy\t\t=\t0.933\t\t# Correct Predictions\t=\t28\n",
      "\n",
      "\n",
      "\n",
      "\n"
     ]
    }
   ],
   "source": [
    "print('total # of train Samples = {}\\t\\ttotal # of test Samples = {}'.format(X_train.shape[0],x_test.shape[0]))\n",
    "print('\\n')\n",
    "\n",
    "ss_transform = [True, False]\n",
    "\n",
    "for k in ss_transform:\n",
    "\n",
    "  print('Standard Scaler: {}'.format(str(k)))\n",
    "  print('\\n\\n\\n')\n",
    "\n",
    "  pipe, X_train_LDA, lda_t = initialize(k)\n",
    "  print(\"\\t\\tSVC(class_weight='None')\")\n",
    "  print('\\n')\n",
    "  final_weights = Val(X_train_LDA, pipe)\n",
    "  print('\\n')\n",
    "  pipe['Classify'].class_weight = final_weights\n",
    "  pred = pipe['Classify'].predict(lda_t)\n",
    "  acc(pred, y_test, prin=True)\n",
    "  print('\\n\\n')\n",
    "\n",
    "  pipe, X_train_LDA, lda_t = initialize(k)\n",
    "  pipe['Classify'].class_weight='balanced'\n",
    "  print(\"\\t\\tSVC(class_weight='balanced')\")\n",
    "  print('\\n')\n",
    "  final_weights_b = Val(X_train_LDA, pipe)\n",
    "  pipe['Classify'].class_weight = final_weights_b\n",
    "  pred = pipe['Classify'].predict(lda_t)\n",
    "  print('\\n')\n",
    "  acc(pred, y_test, prin=True)\n",
    "  print('\\n\\n')\n",
    "\n",
    "  pipe, X_train_LDA, lda_t = initialize(k)\n",
    "  pipe['Classify'].probability=True\n",
    "  pipe['Classify'].fit(X_train_LDA,Y_train)\n",
    "  pract_test = pipe['Classify'].predict_proba(X_train_LDA)\n",
    "  pract_test = np.argmax(pract_test, axis=1)\n",
    "  print('\\t\\tSVC(probability=True)')\n",
    "  print('\\n')\n",
    "  acc(pract_test, Y_train, prin=True, val='Validation')\n",
    "\n",
    "  pred = pipe['Classify'].predict_proba(lda_t)\n",
    "  pred = np.argmax(pred, axis=1)\n",
    "  acc(pred, y_test, prin=True)\n",
    "\n",
    "  print('\\n\\n\\n')"
   ]
  }
 ],
 "metadata": {
  "colab": {
   "provenance": []
  },
  "kernelspec": {
   "display_name": "Python 3 (ipykernel)",
   "language": "python",
   "name": "python3"
  },
  "language_info": {
   "codemirror_mode": {
    "name": "ipython",
    "version": 3
   },
   "file_extension": ".py",
   "mimetype": "text/x-python",
   "name": "python",
   "nbconvert_exporter": "python",
   "pygments_lexer": "ipython3",
   "version": "3.9.13"
  },
  "toc": {
   "base_numbering": 1,
   "nav_menu": {},
   "number_sections": true,
   "sideBar": false,
   "skip_h1_title": false,
   "title_cell": "Table of Contents",
   "title_sidebar": "Contents",
   "toc_cell": true,
   "toc_position": {},
   "toc_section_display": true,
   "toc_window_display": false
  },
  "varInspector": {
   "cols": {
    "lenName": 16,
    "lenType": 16,
    "lenVar": 40
   },
   "kernels_config": {
    "python": {
     "delete_cmd_postfix": "",
     "delete_cmd_prefix": "del ",
     "library": "var_list.py",
     "varRefreshCmd": "print(var_dic_list())"
    },
    "r": {
     "delete_cmd_postfix": ") ",
     "delete_cmd_prefix": "rm(",
     "library": "var_list.r",
     "varRefreshCmd": "cat(var_dic_list()) "
    }
   },
   "types_to_exclude": [
    "module",
    "function",
    "builtin_function_or_method",
    "instance",
    "_Feature"
   ],
   "window_display": false
  }
 },
 "nbformat": 4,
 "nbformat_minor": 1
}
