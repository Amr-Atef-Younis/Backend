{
 "cells": [
  {
   "cell_type": "markdown",
   "id": "zvgFFhzC1W8-",
   "metadata": {
    "deletable": false,
    "editable": false,
    "id": "zvgFFhzC1W8-",
    "run_control": {
     "frozen": true
    }
   },
   "source": [
    "# Get Data from Drive"
   ]
  },
  {
   "cell_type": "code",
   "execution_count": null,
   "id": "yB43fAa9CepB",
   "metadata": {
    "id": "yB43fAa9CepB"
   },
   "outputs": [],
   "source": [
    "# %%bash\n",
    "\n",
    "# cp -r Cars '/content/drive/MyDrive/Colab Stuff/Detection/Final_Cars/'\n",
    "# cp -r datasets '/content/drive/MyDrive/Colab Stuff/Detection/Final_Cars/'\n",
    "# cp -r '/content/faster_rcnn_resnet152_v1_640x640_coco17_tpu8' '/content/drive/MyDrive/Colab Stuff/Detection/Final_Cars/'\n",
    "# cp -r models '/content/drive/MyDrive/Colab Stuff/Detection/Final_Cars/'\n",
    "# cp -r functions_colab.py '/content/drive/MyDrive/Colab Stuff/Detection/Final_Cars/'\n",
    "# cp -r generate_tfrecord.py '/content/drive/MyDrive/Colab Stuff/Detection/Final_Cars/'\n"
   ]
  },
  {
   "cell_type": "code",
   "execution_count": null,
   "id": "sk2m1UqlBU93",
   "metadata": {
    "id": "sk2m1UqlBU93"
   },
   "outputs": [],
   "source": [
    "!cp -r /content/drive/MyDrive/Final_Cars/* ."
   ]
  },
  {
   "cell_type": "markdown",
   "id": "e45b0df7",
   "metadata": {
    "deletable": false,
    "editable": false,
    "heading_collapsed": true,
    "id": "e45b0df7",
    "run_control": {
     "frozen": true
    }
   },
   "source": [
    "# Imports"
   ]
  },
  {
   "cell_type": "code",
   "execution_count": 2,
   "id": "34fc571f",
   "metadata": {
    "ExecuteTime": {
     "end_time": "2022-10-28T08:04:16.737500Z",
     "start_time": "2022-10-28T08:04:16.058988Z"
    },
    "hidden": true,
    "id": "34fc571f",
    "scrolled": true
   },
   "outputs": [],
   "source": [
    "import numpy as np\n",
    "import pandas as pd\n",
    "import matplotlib.pyplot as plt\n",
    "import cv2 as cv\n",
    "import os"
   ]
  },
  {
   "cell_type": "markdown",
   "id": "AbNnVSv-SGMY",
   "metadata": {
    "deletable": false,
    "editable": false,
    "heading_collapsed": true,
    "id": "AbNnVSv-SGMY",
    "run_control": {
     "frozen": true
    }
   },
   "source": [
    "# Install object_detection"
   ]
  },
  {
   "cell_type": "code",
   "execution_count": null,
   "id": "I5UvMEYf_b2S",
   "metadata": {
    "hidden": true,
    "id": "I5UvMEYf_b2S"
   },
   "outputs": [],
   "source": [
    "%%bash\n",
    "\n",
    "# pip install --ignore-installed --upgrade tensorflow==2.5.0\n",
    "cd models/research \n",
    "protoc object_detection/protos/*.proto --python_out=.\n",
    "cp object_detection/packages/tf2/setup.py . \n",
    "python -m pip install .\n",
    "     "
   ]
  },
  {
   "cell_type": "code",
   "execution_count": 3,
   "id": "YLoqvjT95441",
   "metadata": {
    "ExecuteTime": {
     "end_time": "2022-10-28T08:04:22.976453Z",
     "start_time": "2022-10-28T08:04:20.111696Z"
    },
    "hidden": true,
    "id": "YLoqvjT95441"
   },
   "outputs": [
    {
     "name": "stderr",
     "output_type": "stream",
     "text": [
      "2022-10-28 10:04:20.195992: I tensorflow/core/platform/cpu_feature_guard.cc:193] This TensorFlow binary is optimized with oneAPI Deep Neural Network Library (oneDNN) to use the following CPU instructions in performance-critical operations:  AVX2 FMA\n",
      "To enable them in other operations, rebuild TensorFlow with the appropriate compiler flags.\n",
      "2022-10-28 10:04:20.400588: E tensorflow/stream_executor/cuda/cuda_blas.cc:2981] Unable to register cuBLAS factory: Attempting to register factory for plugin cuBLAS when one has already been registered\n",
      "2022-10-28 10:04:21.222858: W tensorflow/stream_executor/platform/default/dso_loader.cc:64] Could not load dynamic library 'libnvinfer.so.7'; dlerror: libnvinfer.so.7: cannot open shared object file: No such file or directory; LD_LIBRARY_PATH: :/home/amr/anaconda3/lib/\n",
      "2022-10-28 10:04:21.223111: W tensorflow/stream_executor/platform/default/dso_loader.cc:64] Could not load dynamic library 'libnvinfer_plugin.so.7'; dlerror: libnvinfer_plugin.so.7: cannot open shared object file: No such file or directory; LD_LIBRARY_PATH: :/home/amr/anaconda3/lib/\n",
      "2022-10-28 10:04:21.223121: W tensorflow/compiler/tf2tensorrt/utils/py_utils.cc:38] TF-TRT Warning: Cannot dlopen some TensorRT libraries. If you would like to use Nvidia GPU with TensorRT, please make sure the missing libraries mentioned above are installed properly.\n",
      "<frozen importlib._bootstrap>:228: RuntimeWarning: scipy._lib.messagestream.MessageStream size changed, may indicate binary incompatibility. Expected 56 from C header, got 64 from PyObject\n"
     ]
    }
   ],
   "source": [
    "import tensorflow as tf\n",
    "\n",
    "from object_detection.protos import pipeline_pb2\n",
    "from google.protobuf import text_format\n",
    "\n",
    "\n",
    "from object_detection.utils import config_util\n",
    "from object_detection.builders import model_builder\n",
    "from object_detection.utils import label_map_util\n",
    "from object_detection.utils import visualization_utils as viz_utils"
   ]
  },
  {
   "cell_type": "markdown",
   "id": "03ff4b30",
   "metadata": {
    "deletable": false,
    "editable": false,
    "heading_collapsed": true,
    "id": "03ff4b30",
    "run_control": {
     "frozen": true
    }
   },
   "source": [
    "# Initializations"
   ]
  },
  {
   "cell_type": "code",
   "execution_count": null,
   "id": "xCdAB65M45q3",
   "metadata": {
    "colab": {
     "base_uri": "https://localhost:8080/"
    },
    "hidden": true,
    "id": "xCdAB65M45q3",
    "outputId": "56a3ab1c-fd51-4fcc-f1f6-478eb8010208"
   },
   "outputs": [],
   "source": [
    "from google.colab import drive\n",
    "drive.mount('/content/drive')"
   ]
  },
  {
   "cell_type": "code",
   "execution_count": null,
   "id": "023c3821",
   "metadata": {
    "ExecuteTime": {
     "end_time": "2022-10-28T07:18:28.855196Z",
     "start_time": "2022-10-28T07:18:28.829022Z"
    },
    "hidden": true,
    "id": "023c3821"
   },
   "outputs": [],
   "source": [
    "from functions_colab import *\n",
    "OD = Functions()\n",
    "\n",
    "model = 'http://download.tensorflow.org/models/object_detection/tf2/20200711/faster_rcnn_resnet152_v1_640x640_coco17_tpu-8.tar.gz'\n",
    "# model = 'http://download.tensorflow.org/models/object_detection/tf2/20200711/faster_rcnn_resnet152_v1_800x1333_coco17_gpu-8.tar.gz'\n",
    "\n",
    "oldmodelname, modelname = OD.download_model(model)\n",
    "\n",
    "!mv 'faster_rcnn_resnet152_v1_640x640_coco17_tpu-8' 'faster_rcnn_resnet152_v1_640x640_coco17_tpu8'\n",
    "\n",
    "# OD.moving('','faster_rcnn_resnet152_v1_640x640_coco17_tpu8')"
   ]
  },
  {
   "cell_type": "markdown",
   "id": "90255058",
   "metadata": {
    "deletable": false,
    "editable": false,
    "heading_collapsed": true,
    "id": "90255058",
    "run_control": {
     "frozen": true
    }
   },
   "source": [
    "# Paths "
   ]
  },
  {
   "cell_type": "code",
   "execution_count": null,
   "id": "1bc3d50c",
   "metadata": {
    "ExecuteTime": {
     "end_time": "2022-10-28T07:29:23.066981Z",
     "start_time": "2022-10-28T07:29:23.035099Z"
    },
    "hidden": true,
    "id": "1bc3d50c"
   },
   "outputs": [],
   "source": [
    "bbox_csv = pd.read_csv('Cars/data/Boxes.csv')\n",
    "bbox_np = np.array(bbox_csv)\n",
    "bbox_csv.tail()"
   ]
  },
  {
   "cell_type": "code",
   "execution_count": 4,
   "id": "1c880b2e",
   "metadata": {
    "ExecuteTime": {
     "end_time": "2022-10-28T08:04:28.233564Z",
     "start_time": "2022-10-28T08:04:28.219516Z"
    },
    "hidden": true,
    "id": "1c880b2e"
   },
   "outputs": [],
   "source": [
    "modelname = 'faster_rcnn_resnet152_v1_640x640_coco17_tpu8'\n",
    "train_img_dir = 'Cars/train/'\n",
    "pipeline_config_dir = 'faster_rcnn_resnet152_v1_640x640_coco17_tpu8/pipeline.config'\n",
    "Annotation_dir = 'Cars/Annotations/'\n",
    "Annotation_file = 'Cars/Annotations/label_map.pbtxt'"
   ]
  },
  {
   "cell_type": "markdown",
   "id": "7626ef0f",
   "metadata": {
    "deletable": false,
    "editable": false,
    "heading_collapsed": true,
    "id": "7626ef0f",
    "run_control": {
     "frozen": true
    }
   },
   "source": [
    "# Labels"
   ]
  },
  {
   "cell_type": "code",
   "execution_count": null,
   "id": "6390ecae",
   "metadata": {
    "hidden": true,
    "id": "6390ecae"
   },
   "outputs": [],
   "source": [
    "labels = {'name': 'Car', 'id':1}\n",
    "\n",
    "with open(Annotation_file, 'w') as f:\n",
    "    f.write('item{\\n')\n",
    "    f.write('\\tname:\\'{}\\'\\n'.format(labels['name']))\n",
    "    f.write('\\tid:{}\\n'.format(labels['id']))\n",
    "    f.write('}\\n')"
   ]
  },
  {
   "cell_type": "markdown",
   "id": "36778166",
   "metadata": {
    "deletable": false,
    "editable": false,
    "heading_collapsed": true,
    "id": "36778166",
    "run_control": {
     "frozen": true
    }
   },
   "source": [
    "# Creating XML Files"
   ]
  },
  {
   "cell_type": "code",
   "execution_count": null,
   "id": "646d603d",
   "metadata": {
    "hidden": true,
    "id": "646d603d"
   },
   "outputs": [],
   "source": [
    "import xml.etree.ElementTree as ET"
   ]
  },
  {
   "cell_type": "code",
   "execution_count": null,
   "id": "c823a8fa",
   "metadata": {
    "hidden": true,
    "id": "c823a8fa"
   },
   "outputs": [],
   "source": [
    "bbox_np = np.array(bbox_csv)\n",
    "f1 = 'Cars/ref1.xml'\n",
    "f2 = 'Cars/ref2.xml'\n",
    "out = 'Cars/Annotations/xml/'\n",
    "path = '/mnt/F/Machine_Learning/Projects/NewStuff/New Projects/Actual/Cars/train/'\n",
    "ls = ['xmin', 'ymin', 'xmax', 'ymax', 'filename', 'path']\n"
   ]
  },
  {
   "cell_type": "code",
   "execution_count": null,
   "id": "b2d1ce1c",
   "metadata": {
    "hidden": true,
    "id": "b2d1ce1c"
   },
   "outputs": [],
   "source": [
    "for k in bbox_np:\n",
    "    ls2_text_c = []\n",
    "    xy = []\n",
    "    name = k[0]\n",
    "    exist = out + name[:-4] + '.xml'\n",
    "    check = os.path.exists(exist)\n",
    "    if not check:\n",
    "        mytree = ET.parse(f1)\n",
    "        root = mytree.getroot()\n",
    "        for i in k[1:]:\n",
    "            xy.append(round(i))\n",
    "        xy.append(name)\n",
    "        xy.append(path+name)\n",
    "        for j,m in zip(ls,xy):\n",
    "            for i in root.iter(j):\n",
    "                i.text = str(m)\n",
    "    else:\n",
    "        names = [name, path+name]\n",
    "        basic_values = []\n",
    "        basic = ET.parse(exist)\n",
    "        basic_root = basic.getroot()\n",
    "        for i in basic_root.iter():\n",
    "            if i.tag in ls[:4]:\n",
    "                basic_values.append(i.text)\n",
    "                \n",
    "        mytree = ET.parse(f2)\n",
    "        root = mytree.getroot()\n",
    "        for l,m in zip(basic_values, ls[:4]):\n",
    "            for i in root[6].iter(m):\n",
    "                i.text = str(l)\n",
    "        \n",
    "        for op in k[1:]:\n",
    "            ls2_text_c.append(round(op))\n",
    "        \n",
    "        for l,m in zip(ls2_text_c, ls[:4]):\n",
    "            for i in root[7].iter(m):\n",
    "                i.text = str(l)\n",
    "                \n",
    "        for l,m in zip(names, ls[4:]):\n",
    "            for i in root.iter(m):\n",
    "                i.text = l\n",
    "        \n",
    "        \n",
    "    mytree.write(out+name[:-4]+'.xml')"
   ]
  },
  {
   "cell_type": "markdown",
   "id": "d4158c02",
   "metadata": {
    "deletable": false,
    "editable": false,
    "heading_collapsed": true,
    "id": "d4158c02",
    "run_control": {
     "frozen": true
    }
   },
   "source": [
    "# Generating Train and Test Records"
   ]
  },
  {
   "cell_type": "code",
   "execution_count": null,
   "id": "r_d-RtoECme3",
   "metadata": {
    "hidden": true,
    "id": "r_d-RtoECme3"
   },
   "outputs": [],
   "source": [
    "# ! rm Cars/Annotations/*.record"
   ]
  },
  {
   "cell_type": "code",
   "execution_count": null,
   "id": "17ca4e55",
   "metadata": {
    "colab": {
     "base_uri": "https://localhost:8080/"
    },
    "hidden": true,
    "id": "17ca4e55",
    "outputId": "642bc5c4-11d1-4d7a-9bb8-3b4e5b110878"
   },
   "outputs": [],
   "source": [
    "!python generate_tfrecord.py -x 'Cars/train/'  -l 'Cars/Annotations/label_map.pbtxt' -o 'Cars/Annotations/train.record'\n",
    "!python generate_tfrecord.py -x 'Cars/Validate/'  -l 'Cars/Annotations/label_map.pbtxt' -o 'Cars/Annotations/test.record'"
   ]
  },
  {
   "cell_type": "markdown",
   "id": "e7c0affc",
   "metadata": {
    "deletable": false,
    "editable": false,
    "heading_collapsed": true,
    "id": "e7c0affc",
    "run_control": {
     "frozen": true
    }
   },
   "source": [
    "# Model Config File"
   ]
  },
  {
   "cell_type": "code",
   "execution_count": null,
   "id": "dBU7vSOIGMHQ",
   "metadata": {
    "colab": {
     "base_uri": "https://localhost:8080/"
    },
    "hidden": true,
    "id": "dBU7vSOIGMHQ",
    "outputId": "60566642-2819-42cd-914c-367c5f4e38d2"
   },
   "outputs": [],
   "source": [
    "!rm -r '/content/faster_rcnn_resnet152_v1_640x640_coco17_tpu8/SavedCP'\n",
    "!mkdir '/content/faster_rcnn_resnet152_v1_640x640_coco17_tpu8/SavedCP'"
   ]
  },
  {
   "cell_type": "code",
   "execution_count": null,
   "id": "53c91fee",
   "metadata": {
    "hidden": true,
    "id": "53c91fee"
   },
   "outputs": [],
   "source": [
    "config_file = config_util.get_configs_from_pipeline_file(pipeline_config_dir)\n",
    "config_file"
   ]
  },
  {
   "cell_type": "code",
   "execution_count": null,
   "id": "6cc32cd0",
   "metadata": {
    "hidden": true,
    "id": "6cc32cd0"
   },
   "outputs": [],
   "source": [
    "# ! cp pipeline.config '/content/faster_rcnn_resnet152_v1_800x1333_coco17_gpu8/'\n",
    "pipeline_config = pipeline_pb2.TrainEvalPipelineConfig()\n",
    "with tf.io.gfile.GFile(pipeline_config_dir, \"r\") as f:                                                                                                                                                                                                                \n",
    "    proto_str = f.read()                                                                                                                                                                                                    \n",
    "    text_format.Merge(proto_str, pipeline_config)  "
   ]
  },
  {
   "cell_type": "code",
   "execution_count": null,
   "id": "a5ef6197",
   "metadata": {
    "hidden": true,
    "id": "a5ef6197"
   },
   "outputs": [],
   "source": [
    "pipeline_config.model.faster_rcnn.num_classes = 1\n",
    "pipeline_config.train_config.batch_size = 4\n",
    "pipeline_config.train_config.fine_tune_checkpoint = modelname + '/checkpoint/ckpt-0'\n",
    "# pipeline_config.train_config.fine_tune_checkpoint = '/content/faster_rcnn_resnet152_v1_800x1333_coco17_gpu8/SavedCP/ckpt-1'\n",
    "pipeline_config.train_config.fine_tune_checkpoint_type = \"detection\"\n",
    "pipeline_config.train_input_reader.label_map_path= Annotation_file\n",
    "pipeline_config.train_input_reader.tf_record_input_reader.input_path[:] = [Annotation_dir + 'train.record']\n",
    "pipeline_config.eval_input_reader[0].label_map_path = Annotation_file\n",
    "pipeline_config.eval_input_reader[0].tf_record_input_reader.input_path[:] = [Annotation_dir + 'test.record']"
   ]
  },
  {
   "cell_type": "code",
   "execution_count": null,
   "id": "1e45e435",
   "metadata": {
    "hidden": true,
    "id": "1e45e435"
   },
   "outputs": [],
   "source": [
    "config_text = text_format.MessageToString(pipeline_config)                                                                                                                                                                                                        \n",
    "with tf.io.gfile.GFile(pipeline_config_dir, \"wb\") as f:                                                                                                                                                                                                                     \n",
    "    f.write(config_text)   "
   ]
  },
  {
   "cell_type": "markdown",
   "id": "NlrimFwMH7_2",
   "metadata": {
    "deletable": false,
    "editable": false,
    "heading_collapsed": true,
    "id": "NlrimFwMH7_2",
    "run_control": {
     "frozen": true
    }
   },
   "source": [
    "# Training"
   ]
  },
  {
   "cell_type": "code",
   "execution_count": null,
   "id": "a509fdf7",
   "metadata": {
    "hidden": true,
    "id": "a509fdf7"
   },
   "outputs": [],
   "source": [
    "print(\"\"\"python models/research/object_detection/model_main_tf2.py --model_dir={}/SavedCP/ --pipeline_config_path={}/pipeline.config --alsologtostderr --num_train_steps=3000\"\"\".format(modelname, modelname))"
   ]
  },
  {
   "cell_type": "code",
   "execution_count": null,
   "id": "9e5d570a",
   "metadata": {
    "hidden": true,
    "id": "9e5d570a"
   },
   "outputs": [],
   "source": [
    "!python models/research/object_detection/model_main_tf2.py --model_dir=faster_rcnn_resnet152_v1_640x640_coco17_tpu8/SavedCP/ --pipeline_config_path=faster_rcnn_resnet152_v1_640x640_coco17_tpu8/pipeline.config --alsologtostderr --num_train_steps=3000"
   ]
  },
  {
   "cell_type": "markdown",
   "id": "24pQRjd1Jctf",
   "metadata": {
    "deletable": false,
    "editable": false,
    "heading_collapsed": true,
    "id": "24pQRjd1Jctf",
    "run_control": {
     "frozen": true
    }
   },
   "source": [
    "# Load Trained Model"
   ]
  },
  {
   "cell_type": "code",
   "execution_count": 5,
   "id": "fmTY1Eb6J1VF",
   "metadata": {
    "ExecuteTime": {
     "end_time": "2022-10-28T08:04:34.493584Z",
     "start_time": "2022-10-28T08:04:34.483611Z"
    },
    "hidden": true,
    "id": "fmTY1Eb6J1VF"
   },
   "outputs": [],
   "source": [
    "import os\n",
    "from object_detection.utils import label_map_util\n",
    "from object_detection.utils import visualization_utils as viz_utils\n",
    "from object_detection.builders import model_builder"
   ]
  },
  {
   "cell_type": "code",
   "execution_count": 6,
   "id": "mnCk0wARILkI",
   "metadata": {
    "ExecuteTime": {
     "end_time": "2022-10-28T08:04:35.784644Z",
     "start_time": "2022-10-28T08:04:35.029072Z"
    },
    "hidden": true,
    "id": "mnCk0wARILkI"
   },
   "outputs": [
    {
     "name": "stderr",
     "output_type": "stream",
     "text": [
      "2022-10-28 10:04:35.132351: I tensorflow/stream_executor/cuda/cuda_gpu_executor.cc:980] successful NUMA node read from SysFS had negative value (-1), but there must be at least one NUMA node, so returning NUMA node zero\n",
      "2022-10-28 10:04:35.147545: I tensorflow/stream_executor/cuda/cuda_gpu_executor.cc:980] successful NUMA node read from SysFS had negative value (-1), but there must be at least one NUMA node, so returning NUMA node zero\n",
      "2022-10-28 10:04:35.148018: I tensorflow/stream_executor/cuda/cuda_gpu_executor.cc:980] successful NUMA node read from SysFS had negative value (-1), but there must be at least one NUMA node, so returning NUMA node zero\n",
      "2022-10-28 10:04:35.148757: I tensorflow/core/platform/cpu_feature_guard.cc:193] This TensorFlow binary is optimized with oneAPI Deep Neural Network Library (oneDNN) to use the following CPU instructions in performance-critical operations:  AVX2 FMA\n",
      "To enable them in other operations, rebuild TensorFlow with the appropriate compiler flags.\n",
      "2022-10-28 10:04:35.149175: I tensorflow/stream_executor/cuda/cuda_gpu_executor.cc:980] successful NUMA node read from SysFS had negative value (-1), but there must be at least one NUMA node, so returning NUMA node zero\n",
      "2022-10-28 10:04:35.149461: I tensorflow/stream_executor/cuda/cuda_gpu_executor.cc:980] successful NUMA node read from SysFS had negative value (-1), but there must be at least one NUMA node, so returning NUMA node zero\n",
      "2022-10-28 10:04:35.149835: I tensorflow/stream_executor/cuda/cuda_gpu_executor.cc:980] successful NUMA node read from SysFS had negative value (-1), but there must be at least one NUMA node, so returning NUMA node zero\n",
      "2022-10-28 10:04:35.715312: I tensorflow/stream_executor/cuda/cuda_gpu_executor.cc:980] successful NUMA node read from SysFS had negative value (-1), but there must be at least one NUMA node, so returning NUMA node zero\n",
      "2022-10-28 10:04:35.715629: I tensorflow/stream_executor/cuda/cuda_gpu_executor.cc:980] successful NUMA node read from SysFS had negative value (-1), but there must be at least one NUMA node, so returning NUMA node zero\n",
      "2022-10-28 10:04:35.716046: I tensorflow/stream_executor/cuda/cuda_gpu_executor.cc:980] successful NUMA node read from SysFS had negative value (-1), but there must be at least one NUMA node, so returning NUMA node zero\n",
      "2022-10-28 10:04:35.716208: I tensorflow/core/common_runtime/gpu/gpu_device.cc:1616] Created device /job:localhost/replica:0/task:0/device:GPU:0 with 2322 MB memory:  -> device: 0, name: NVIDIA GeForce GTX 1050 Ti, pci bus id: 0000:01:00.0, compute capability: 6.1\n"
     ]
    }
   ],
   "source": [
    "# Load pipeline config and build a detection model\n",
    "configs = config_util.get_configs_from_pipeline_file('faster_rcnn_resnet152_v1_640x640_coco17_tpu8/pipeline.config')\n",
    "detection_model = model_builder.build(model_config=configs['model'], is_training=False)\n",
    "\n",
    "# Restore checkpoint\n",
    "ckpt = tf.compat.v2.train.Checkpoint(model=detection_model)\n",
    "ckpt.restore(os.path.join('Saved Checkpoints/', 'ckpt-3')).expect_partial()\n",
    "\n",
    "@tf.function\n",
    "def detect_fn(image):\n",
    "    image, shapes = detection_model.preprocess(image)\n",
    "    prediction_dict = detection_model.predict(image, shapes)\n",
    "    detections = detection_model.postprocess(prediction_dict, shapes)\n",
    "    return detections"
   ]
  },
  {
   "cell_type": "markdown",
   "id": "4n0AkWgcKkW9",
   "metadata": {
    "deletable": false,
    "editable": false,
    "id": "4n0AkWgcKkW9",
    "run_control": {
     "frozen": true
    }
   },
   "source": [
    "# Making Predictions"
   ]
  },
  {
   "cell_type": "markdown",
   "id": "ahXB7SHAKnPC",
   "metadata": {
    "deletable": false,
    "editable": false,
    "heading_collapsed": true,
    "id": "ahXB7SHAKnPC",
    "run_control": {
     "frozen": true
    }
   },
   "source": [
    "## Functions"
   ]
  },
  {
   "cell_type": "code",
   "execution_count": 1,
   "id": "tKQmKjNIMfMQ",
   "metadata": {
    "ExecuteTime": {
     "end_time": "2022-10-28T15:50:47.209206Z",
     "start_time": "2022-10-28T15:50:47.201637Z"
    },
    "hidden": true,
    "id": "tKQmKjNIMfMQ"
   },
   "outputs": [],
   "source": [
    "from google.colab.patches import cv2_imshow"
   ]
  },
  {
   "cell_type": "code",
   "execution_count": 7,
   "id": "BxhD84ZLOg5x",
   "metadata": {
    "ExecuteTime": {
     "end_time": "2022-10-28T08:04:40.029919Z",
     "start_time": "2022-10-28T08:04:40.026470Z"
    },
    "hidden": true,
    "id": "BxhD84ZLOg5x"
   },
   "outputs": [],
   "source": [
    "category_index = label_map_util.create_category_index_from_labelmap(Annotation_file)"
   ]
  },
  {
   "cell_type": "code",
   "execution_count": 8,
   "id": "_QTW13SxKr2r",
   "metadata": {
    "ExecuteTime": {
     "end_time": "2022-10-28T08:04:40.788848Z",
     "start_time": "2022-10-28T08:04:40.774843Z"
    },
    "hidden": true,
    "id": "_QTW13SxKr2r"
   },
   "outputs": [],
   "source": [
    "def load_image(image):\n",
    "    img1 = cv.imread(image)\n",
    "    # img = cv.cvtColor(img1, cv.COLOR_BGR2RGB)\n",
    "    img_v = np.array(img1)\n",
    "    input_tensor = np.expand_dims(img_v.copy(),0)\n",
    "    input_tensor = tf.convert_to_tensor(input_tensor, dtype=tf.float32)\n",
    "    return img1, input_tensor\n",
    "\n",
    "def visualize(img, detections):\n",
    "    label_id_offset = 1\n",
    "    viz_utils.visualize_boxes_and_labels_on_image_array(\n",
    "                img,\n",
    "                detections['detection_boxes'],\n",
    "                detections['detection_classes']+label_id_offset,\n",
    "                detections['detection_scores'],\n",
    "                category_index,\n",
    "                use_normalized_coordinates=True,\n",
    "                max_boxes_to_draw=5,\n",
    "                min_score_thresh=.6,\n",
    "                agnostic_mode=False)\n",
    "    return img\n",
    "\n",
    "\n",
    "def visualizer_func_helper(input_tensor):\n",
    "    detections = detect_fn(input_tensor)\n",
    "\n",
    "    num_detections = int(detections.pop('num_detections'))\n",
    "    detections = {key: value[0, :num_detections].numpy()\n",
    "                for key, value in detections.items()}\n",
    "    detections['num_detections'] = num_detections\n",
    "\n",
    "    # detection_classes should be ints.\n",
    "    detections['detection_classes'] = detections['detection_classes'].astype(np.int64)\n",
    "\n",
    "    return detections"
   ]
  },
  {
   "cell_type": "markdown",
   "id": "af811772",
   "metadata": {
    "deletable": false,
    "editable": false,
    "heading_collapsed": true,
    "run_control": {
     "frozen": true
    }
   },
   "source": [
    "## Image Testing"
   ]
  },
  {
   "cell_type": "code",
   "execution_count": null,
   "id": "_PdlUEu9JtK4",
   "metadata": {
    "hidden": true,
    "id": "_PdlUEu9JtK4"
   },
   "outputs": [],
   "source": [
    "path2test = 'Cars/test/'\n",
    "test_files = os.listdir(path2test)"
   ]
  },
  {
   "cell_type": "code",
   "execution_count": null,
   "id": "2EGFXEWlKJIJ",
   "metadata": {
    "hidden": true,
    "id": "2EGFXEWlKJIJ"
   },
   "outputs": [],
   "source": [
    "for i in range(20):\n",
    "    idx = np.random.randint(0,len(test_files))\n",
    "    img, input_tensor = load_image(path2test + test_files[idx])\n",
    "    detections = visualizer_func_helper(input_tensor)\n",
    "    img2vis = visualize(img, detections)\n",
    "    cv2_imshow(img2vis)"
   ]
  },
  {
   "cell_type": "markdown",
   "id": "jHzXp0uI-7ZO",
   "metadata": {
    "deletable": false,
    "editable": false,
    "heading_collapsed": true,
    "id": "jHzXp0uI-7ZO",
    "run_control": {
     "frozen": true
    }
   },
   "source": [
    "## Video Testing"
   ]
  },
  {
   "cell_type": "code",
   "execution_count": null,
   "id": "zL5sR2x2-8s5",
   "metadata": {
    "ExecuteTime": {
     "end_time": "2022-10-28T07:22:31.367678Z",
     "start_time": "2022-10-28T07:21:49.457483Z"
    },
    "hidden": true,
    "id": "zL5sR2x2-8s5"
   },
   "outputs": [],
   "source": [
    "# %%bash\n",
    "yt_vid = \"https://www.youtube.com/watch?v=e_WBuBqS9h8\"\n",
    "# pip install yt-dlp\n",
    "# yt-dlp -F yt_vid\n",
    "yt-dlp -f 244 yt_vid"
   ]
  },
  {
   "cell_type": "code",
   "execution_count": 10,
   "id": "xlNFrnydAXRL",
   "metadata": {
    "ExecuteTime": {
     "end_time": "2022-10-28T08:05:37.331229Z",
     "start_time": "2022-10-28T08:04:51.642579Z"
    },
    "hidden": true,
    "id": "xlNFrnydAXRL"
   },
   "outputs": [
    {
     "name": "stdout",
     "output_type": "stream",
     "text": [
      "INFO:tensorflow:depth of additional conv before box predictor: 0\n",
      "WARNING:tensorflow:From /home/amr/anaconda3/lib/python3.9/site-packages/tensorflow/python/autograph/impl/api.py:459: Tensor.experimental_ref (from tensorflow.python.framework.ops) is deprecated and will be removed in a future version.\n",
      "Instructions for updating:\n",
      "Use ref() instead.\n"
     ]
    },
    {
     "name": "stderr",
     "output_type": "stream",
     "text": [
      "2022-10-28 10:05:15.288469: I tensorflow/stream_executor/cuda/cuda_dnn.cc:384] Loaded cuDNN version 8201\n",
      "2022-10-28 10:05:16.074777: W tensorflow/core/common_runtime/bfc_allocator.cc:290] Allocator (GPU_0_bfc) ran out of memory trying to allocate 2.06GiB with freed_by_count=0. The caller indicates that this is not a failure, but this may mean that there could be performance gains if more memory were available.\n",
      "2022-10-28 10:05:16.093755: W tensorflow/core/common_runtime/bfc_allocator.cc:290] Allocator (GPU_0_bfc) ran out of memory trying to allocate 2.06GiB with freed_by_count=0. The caller indicates that this is not a failure, but this may mean that there could be performance gains if more memory were available.\n",
      "2022-10-28 10:05:16.180669: W tensorflow/core/common_runtime/bfc_allocator.cc:290] Allocator (GPU_0_bfc) ran out of memory trying to allocate 2.06GiB with freed_by_count=0. The caller indicates that this is not a failure, but this may mean that there could be performance gains if more memory were available.\n",
      "2022-10-28 10:05:16.282703: W tensorflow/core/common_runtime/bfc_allocator.cc:290] Allocator (GPU_0_bfc) ran out of memory trying to allocate 2.09GiB with freed_by_count=0. The caller indicates that this is not a failure, but this may mean that there could be performance gains if more memory were available.\n",
      "2022-10-28 10:05:16.482677: W tensorflow/core/common_runtime/bfc_allocator.cc:290] Allocator (GPU_0_bfc) ran out of memory trying to allocate 2.15GiB with freed_by_count=0. The caller indicates that this is not a failure, but this may mean that there could be performance gains if more memory were available.\n",
      "2022-10-28 10:05:16.933719: W tensorflow/core/common_runtime/bfc_allocator.cc:290] Allocator (GPU_0_bfc) ran out of memory trying to allocate 2.32GiB with freed_by_count=0. The caller indicates that this is not a failure, but this may mean that there could be performance gains if more memory were available.\n",
      "2022-10-28 10:05:16.982004: W tensorflow/core/common_runtime/bfc_allocator.cc:290] Allocator (GPU_0_bfc) ran out of memory trying to allocate 2.60GiB with freed_by_count=0. The caller indicates that this is not a failure, but this may mean that there could be performance gains if more memory were available.\n",
      "2022-10-28 10:05:17.116295: W tensorflow/core/common_runtime/bfc_allocator.cc:290] Allocator (GPU_0_bfc) ran out of memory trying to allocate 3.59GiB with freed_by_count=0. The caller indicates that this is not a failure, but this may mean that there could be performance gains if more memory were available.\n",
      "QObject::moveToThread: Current thread (0x2524edf0) is not the object's thread (0x244d1b80).\n",
      "Cannot move to target thread (0x2524edf0)\n",
      "\n",
      "QObject::moveToThread: Current thread (0x2524edf0) is not the object's thread (0x244d1b80).\n",
      "Cannot move to target thread (0x2524edf0)\n",
      "\n",
      "QObject::moveToThread: Current thread (0x2524edf0) is not the object's thread (0x244d1b80).\n",
      "Cannot move to target thread (0x2524edf0)\n",
      "\n",
      "QObject::moveToThread: Current thread (0x2524edf0) is not the object's thread (0x244d1b80).\n",
      "Cannot move to target thread (0x2524edf0)\n",
      "\n",
      "QObject::moveToThread: Current thread (0x2524edf0) is not the object's thread (0x244d1b80).\n",
      "Cannot move to target thread (0x2524edf0)\n",
      "\n",
      "QObject::moveToThread: Current thread (0x2524edf0) is not the object's thread (0x244d1b80).\n",
      "Cannot move to target thread (0x2524edf0)\n",
      "\n",
      "QObject::moveToThread: Current thread (0x2524edf0) is not the object's thread (0x244d1b80).\n",
      "Cannot move to target thread (0x2524edf0)\n",
      "\n",
      "QObject::moveToThread: Current thread (0x2524edf0) is not the object's thread (0x244d1b80).\n",
      "Cannot move to target thread (0x2524edf0)\n",
      "\n",
      "QObject::moveToThread: Current thread (0x2524edf0) is not the object's thread (0x244d1b80).\n",
      "Cannot move to target thread (0x2524edf0)\n",
      "\n",
      "QObject::moveToThread: Current thread (0x2524edf0) is not the object's thread (0x244d1b80).\n",
      "Cannot move to target thread (0x2524edf0)\n",
      "\n",
      "QObject::moveToThread: Current thread (0x2524edf0) is not the object's thread (0x244d1b80).\n",
      "Cannot move to target thread (0x2524edf0)\n",
      "\n",
      "QObject::moveToThread: Current thread (0x2524edf0) is not the object's thread (0x244d1b80).\n",
      "Cannot move to target thread (0x2524edf0)\n",
      "\n",
      "QObject::moveToThread: Current thread (0x2524edf0) is not the object's thread (0x244d1b80).\n",
      "Cannot move to target thread (0x2524edf0)\n",
      "\n",
      "QObject::moveToThread: Current thread (0x2524edf0) is not the object's thread (0x244d1b80).\n",
      "Cannot move to target thread (0x2524edf0)\n",
      "\n",
      "QObject::moveToThread: Current thread (0x2524edf0) is not the object's thread (0x244d1b80).\n",
      "Cannot move to target thread (0x2524edf0)\n",
      "\n",
      "QObject::moveToThread: Current thread (0x2524edf0) is not the object's thread (0x244d1b80).\n",
      "Cannot move to target thread (0x2524edf0)\n",
      "\n",
      "QObject::moveToThread: Current thread (0x2524edf0) is not the object's thread (0x244d1b80).\n",
      "Cannot move to target thread (0x2524edf0)\n",
      "\n",
      "QObject::moveToThread: Current thread (0x2524edf0) is not the object's thread (0x244d1b80).\n",
      "Cannot move to target thread (0x2524edf0)\n",
      "\n",
      "QObject::moveToThread: Current thread (0x2524edf0) is not the object's thread (0x244d1b80).\n",
      "Cannot move to target thread (0x2524edf0)\n",
      "\n",
      "QObject::moveToThread: Current thread (0x2524edf0) is not the object's thread (0x244d1b80).\n",
      "Cannot move to target thread (0x2524edf0)\n",
      "\n",
      "QObject::moveToThread: Current thread (0x2524edf0) is not the object's thread (0x244d1b80).\n",
      "Cannot move to target thread (0x2524edf0)\n",
      "\n",
      "QObject::moveToThread: Current thread (0x2524edf0) is not the object's thread (0x244d1b80).\n",
      "Cannot move to target thread (0x2524edf0)\n",
      "\n",
      "QObject::moveToThread: Current thread (0x2524edf0) is not the object's thread (0x244d1b80).\n",
      "Cannot move to target thread (0x2524edf0)\n",
      "\n",
      "QObject::moveToThread: Current thread (0x2524edf0) is not the object's thread (0x244d1b80).\n",
      "Cannot move to target thread (0x2524edf0)\n",
      "\n",
      "QObject::moveToThread: Current thread (0x2524edf0) is not the object's thread (0x244d1b80).\n",
      "Cannot move to target thread (0x2524edf0)\n",
      "\n",
      "QObject::moveToThread: Current thread (0x2524edf0) is not the object's thread (0x244d1b80).\n",
      "Cannot move to target thread (0x2524edf0)\n",
      "\n",
      "QObject::moveToThread: Current thread (0x2524edf0) is not the object's thread (0x244d1b80).\n",
      "Cannot move to target thread (0x2524edf0)\n",
      "\n",
      "QObject::moveToThread: Current thread (0x2524edf0) is not the object's thread (0x244d1b80).\n",
      "Cannot move to target thread (0x2524edf0)\n",
      "\n",
      "QObject::moveToThread: Current thread (0x2524edf0) is not the object's thread (0x244d1b80).\n",
      "Cannot move to target thread (0x2524edf0)\n",
      "\n",
      "QObject::moveToThread: Current thread (0x2524edf0) is not the object's thread (0x244d1b80).\n",
      "Cannot move to target thread (0x2524edf0)\n",
      "\n",
      "QObject::moveToThread: Current thread (0x2524edf0) is not the object's thread (0x244d1b80).\n",
      "Cannot move to target thread (0x2524edf0)\n",
      "\n",
      "QObject::moveToThread: Current thread (0x2524edf0) is not the object's thread (0x244d1b80).\n",
      "Cannot move to target thread (0x2524edf0)\n",
      "\n",
      "QObject::moveToThread: Current thread (0x2524edf0) is not the object's thread (0x244d1b80).\n",
      "Cannot move to target thread (0x2524edf0)\n",
      "\n",
      "QObject::moveToThread: Current thread (0x2524edf0) is not the object's thread (0x244d1b80).\n",
      "Cannot move to target thread (0x2524edf0)\n",
      "\n",
      "QObject::moveToThread: Current thread (0x2524edf0) is not the object's thread (0x244d1b80).\n",
      "Cannot move to target thread (0x2524edf0)\n",
      "\n",
      "QObject::moveToThread: Current thread (0x2524edf0) is not the object's thread (0x244d1b80).\n",
      "Cannot move to target thread (0x2524edf0)\n",
      "\n",
      "QObject::moveToThread: Current thread (0x2524edf0) is not the object's thread (0x244d1b80).\n",
      "Cannot move to target thread (0x2524edf0)\n",
      "\n",
      "QObject::moveToThread: Current thread (0x2524edf0) is not the object's thread (0x244d1b80).\n",
      "Cannot move to target thread (0x2524edf0)\n",
      "\n",
      "QObject::moveToThread: Current thread (0x2524edf0) is not the object's thread (0x244d1b80).\n",
      "Cannot move to target thread (0x2524edf0)\n",
      "\n",
      "QObject::moveToThread: Current thread (0x2524edf0) is not the object's thread (0x244d1b80).\n",
      "Cannot move to target thread (0x2524edf0)\n",
      "\n",
      "QObject::moveToThread: Current thread (0x2524edf0) is not the object's thread (0x244d1b80).\n",
      "Cannot move to target thread (0x2524edf0)\n",
      "\n",
      "QObject::moveToThread: Current thread (0x2524edf0) is not the object's thread (0x244d1b80).\n",
      "Cannot move to target thread (0x2524edf0)\n",
      "\n",
      "QObject::moveToThread: Current thread (0x2524edf0) is not the object's thread (0x244d1b80).\n",
      "Cannot move to target thread (0x2524edf0)\n",
      "\n",
      "QObject::moveToThread: Current thread (0x2524edf0) is not the object's thread (0x244d1b80).\n",
      "Cannot move to target thread (0x2524edf0)\n",
      "\n",
      "QObject::moveToThread: Current thread (0x2524edf0) is not the object's thread (0x244d1b80).\n",
      "Cannot move to target thread (0x2524edf0)\n",
      "\n",
      "QObject::moveToThread: Current thread (0x2524edf0) is not the object's thread (0x244d1b80).\n",
      "Cannot move to target thread (0x2524edf0)\n",
      "\n",
      "QObject::moveToThread: Current thread (0x2524edf0) is not the object's thread (0x244d1b80).\n",
      "Cannot move to target thread (0x2524edf0)\n",
      "\n",
      "QObject::moveToThread: Current thread (0x2524edf0) is not the object's thread (0x244d1b80).\n",
      "Cannot move to target thread (0x2524edf0)\n",
      "\n",
      "QObject::moveToThread: Current thread (0x2524edf0) is not the object's thread (0x244d1b80).\n",
      "Cannot move to target thread (0x2524edf0)\n",
      "\n",
      "QObject::moveToThread: Current thread (0x2524edf0) is not the object's thread (0x244d1b80).\n",
      "Cannot move to target thread (0x2524edf0)\n",
      "\n",
      "QObject::moveToThread: Current thread (0x2524edf0) is not the object's thread (0x244d1b80).\n",
      "Cannot move to target thread (0x2524edf0)\n",
      "\n",
      "QObject::moveToThread: Current thread (0x2524edf0) is not the object's thread (0x244d1b80).\n",
      "Cannot move to target thread (0x2524edf0)\n",
      "\n",
      "QObject::moveToThread: Current thread (0x2524edf0) is not the object's thread (0x244d1b80).\n",
      "Cannot move to target thread (0x2524edf0)\n",
      "\n",
      "QObject::moveToThread: Current thread (0x2524edf0) is not the object's thread (0x244d1b80).\n",
      "Cannot move to target thread (0x2524edf0)\n",
      "\n",
      "QObject::moveToThread: Current thread (0x2524edf0) is not the object's thread (0x244d1b80).\n",
      "Cannot move to target thread (0x2524edf0)\n",
      "\n",
      "QObject::moveToThread: Current thread (0x2524edf0) is not the object's thread (0x244d1b80).\n",
      "Cannot move to target thread (0x2524edf0)\n",
      "\n",
      "QObject::moveToThread: Current thread (0x2524edf0) is not the object's thread (0x244d1b80).\n",
      "Cannot move to target thread (0x2524edf0)\n",
      "\n",
      "QObject::moveToThread: Current thread (0x2524edf0) is not the object's thread (0x244d1b80).\n",
      "Cannot move to target thread (0x2524edf0)\n",
      "\n",
      "QObject::moveToThread: Current thread (0x2524edf0) is not the object's thread (0x244d1b80).\n",
      "Cannot move to target thread (0x2524edf0)\n",
      "\n",
      "QObject::moveToThread: Current thread (0x2524edf0) is not the object's thread (0x244d1b80).\n",
      "Cannot move to target thread (0x2524edf0)\n",
      "\n",
      "QObject::moveToThread: Current thread (0x2524edf0) is not the object's thread (0x244d1b80).\n",
      "Cannot move to target thread (0x2524edf0)\n",
      "\n",
      "QObject::moveToThread: Current thread (0x2524edf0) is not the object's thread (0x244d1b80).\n",
      "Cannot move to target thread (0x2524edf0)\n",
      "\n",
      "QObject::moveToThread: Current thread (0x2524edf0) is not the object's thread (0x244d1b80).\n",
      "Cannot move to target thread (0x2524edf0)\n",
      "\n",
      "QObject::moveToThread: Current thread (0x2524edf0) is not the object's thread (0x244d1b80).\n",
      "Cannot move to target thread (0x2524edf0)\n",
      "\n",
      "QObject::moveToThread: Current thread (0x2524edf0) is not the object's thread (0x244d1b80).\n",
      "Cannot move to target thread (0x2524edf0)\n",
      "\n",
      "QObject::moveToThread: Current thread (0x2524edf0) is not the object's thread (0x244d1b80).\n",
      "Cannot move to target thread (0x2524edf0)\n",
      "\n",
      "QObject::moveToThread: Current thread (0x2524edf0) is not the object's thread (0x244d1b80).\n",
      "Cannot move to target thread (0x2524edf0)\n",
      "\n",
      "QObject::moveToThread: Current thread (0x2524edf0) is not the object's thread (0x244d1b80).\n",
      "Cannot move to target thread (0x2524edf0)\n",
      "\n",
      "QObject::moveToThread: Current thread (0x2524edf0) is not the object's thread (0x244d1b80).\n",
      "Cannot move to target thread (0x2524edf0)\n",
      "\n",
      "QObject::moveToThread: Current thread (0x2524edf0) is not the object's thread (0x244d1b80).\n",
      "Cannot move to target thread (0x2524edf0)\n",
      "\n",
      "QObject::moveToThread: Current thread (0x2524edf0) is not the object's thread (0x244d1b80).\n",
      "Cannot move to target thread (0x2524edf0)\n",
      "\n",
      "QObject::moveToThread: Current thread (0x2524edf0) is not the object's thread (0x244d1b80).\n",
      "Cannot move to target thread (0x2524edf0)\n",
      "\n",
      "QObject::moveToThread: Current thread (0x2524edf0) is not the object's thread (0x244d1b80).\n",
      "Cannot move to target thread (0x2524edf0)\n",
      "\n",
      "QObject::moveToThread: Current thread (0x2524edf0) is not the object's thread (0x244d1b80).\n",
      "Cannot move to target thread (0x2524edf0)\n",
      "\n",
      "QObject::moveToThread: Current thread (0x2524edf0) is not the object's thread (0x244d1b80).\n",
      "Cannot move to target thread (0x2524edf0)\n",
      "\n",
      "QObject::moveToThread: Current thread (0x2524edf0) is not the object's thread (0x244d1b80).\n",
      "Cannot move to target thread (0x2524edf0)\n",
      "\n",
      "QObject::moveToThread: Current thread (0x2524edf0) is not the object's thread (0x244d1b80).\n",
      "Cannot move to target thread (0x2524edf0)\n",
      "\n",
      "QObject::moveToThread: Current thread (0x2524edf0) is not the object's thread (0x244d1b80).\n",
      "Cannot move to target thread (0x2524edf0)\n",
      "\n",
      "QObject::moveToThread: Current thread (0x2524edf0) is not the object's thread (0x244d1b80).\n",
      "Cannot move to target thread (0x2524edf0)\n",
      "\n",
      "QObject::moveToThread: Current thread (0x2524edf0) is not the object's thread (0x244d1b80).\n",
      "Cannot move to target thread (0x2524edf0)\n",
      "\n",
      "QObject::moveToThread: Current thread (0x2524edf0) is not the object's thread (0x244d1b80).\n",
      "Cannot move to target thread (0x2524edf0)\n",
      "\n",
      "QObject::moveToThread: Current thread (0x2524edf0) is not the object's thread (0x244d1b80).\n",
      "Cannot move to target thread (0x2524edf0)\n",
      "\n",
      "QObject::moveToThread: Current thread (0x2524edf0) is not the object's thread (0x244d1b80).\n",
      "Cannot move to target thread (0x2524edf0)\n",
      "\n",
      "QObject::moveToThread: Current thread (0x2524edf0) is not the object's thread (0x244d1b80).\n",
      "Cannot move to target thread (0x2524edf0)\n",
      "\n",
      "QObject::moveToThread: Current thread (0x2524edf0) is not the object's thread (0x244d1b80).\n",
      "Cannot move to target thread (0x2524edf0)\n",
      "\n",
      "QObject::moveToThread: Current thread (0x2524edf0) is not the object's thread (0x244d1b80).\n",
      "Cannot move to target thread (0x2524edf0)\n",
      "\n",
      "QObject::moveToThread: Current thread (0x2524edf0) is not the object's thread (0x244d1b80).\n",
      "Cannot move to target thread (0x2524edf0)\n",
      "\n",
      "QObject::moveToThread: Current thread (0x2524edf0) is not the object's thread (0x244d1b80).\n",
      "Cannot move to target thread (0x2524edf0)\n",
      "\n",
      "QObject::moveToThread: Current thread (0x2524edf0) is not the object's thread (0x244d1b80).\n",
      "Cannot move to target thread (0x2524edf0)\n",
      "\n",
      "QObject::moveToThread: Current thread (0x2524edf0) is not the object's thread (0x244d1b80).\n",
      "Cannot move to target thread (0x2524edf0)\n",
      "\n",
      "QObject::moveToThread: Current thread (0x2524edf0) is not the object's thread (0x244d1b80).\n",
      "Cannot move to target thread (0x2524edf0)\n",
      "\n",
      "QObject::moveToThread: Current thread (0x2524edf0) is not the object's thread (0x244d1b80).\n",
      "Cannot move to target thread (0x2524edf0)\n",
      "\n",
      "QObject::moveToThread: Current thread (0x2524edf0) is not the object's thread (0x244d1b80).\n",
      "Cannot move to target thread (0x2524edf0)\n",
      "\n",
      "QObject::moveToThread: Current thread (0x2524edf0) is not the object's thread (0x244d1b80).\n",
      "Cannot move to target thread (0x2524edf0)\n",
      "\n",
      "QObject::moveToThread: Current thread (0x2524edf0) is not the object's thread (0x244d1b80).\n",
      "Cannot move to target thread (0x2524edf0)\n",
      "\n",
      "QObject::moveToThread: Current thread (0x2524edf0) is not the object's thread (0x244d1b80).\n",
      "Cannot move to target thread (0x2524edf0)\n",
      "\n",
      "QObject::moveToThread: Current thread (0x2524edf0) is not the object's thread (0x244d1b80).\n",
      "Cannot move to target thread (0x2524edf0)\n",
      "\n",
      "QObject::moveToThread: Current thread (0x2524edf0) is not the object's thread (0x244d1b80).\n",
      "Cannot move to target thread (0x2524edf0)\n",
      "\n",
      "QObject::moveToThread: Current thread (0x2524edf0) is not the object's thread (0x244d1b80).\n",
      "Cannot move to target thread (0x2524edf0)\n",
      "\n",
      "QObject::moveToThread: Current thread (0x2524edf0) is not the object's thread (0x244d1b80).\n",
      "Cannot move to target thread (0x2524edf0)\n",
      "\n",
      "QObject::moveToThread: Current thread (0x2524edf0) is not the object's thread (0x244d1b80).\n",
      "Cannot move to target thread (0x2524edf0)\n",
      "\n",
      "QObject::moveToThread: Current thread (0x2524edf0) is not the object's thread (0x244d1b80).\n",
      "Cannot move to target thread (0x2524edf0)\n",
      "\n",
      "QObject::moveToThread: Current thread (0x2524edf0) is not the object's thread (0x244d1b80).\n",
      "Cannot move to target thread (0x2524edf0)\n",
      "\n",
      "QObject::moveToThread: Current thread (0x2524edf0) is not the object's thread (0x244d1b80).\n",
      "Cannot move to target thread (0x2524edf0)\n",
      "\n",
      "QObject::moveToThread: Current thread (0x2524edf0) is not the object's thread (0x244d1b80).\n",
      "Cannot move to target thread (0x2524edf0)\n",
      "\n",
      "QObject::moveToThread: Current thread (0x2524edf0) is not the object's thread (0x244d1b80).\n",
      "Cannot move to target thread (0x2524edf0)\n",
      "\n",
      "QObject::moveToThread: Current thread (0x2524edf0) is not the object's thread (0x244d1b80).\n",
      "Cannot move to target thread (0x2524edf0)\n",
      "\n",
      "QObject::moveToThread: Current thread (0x2524edf0) is not the object's thread (0x244d1b80).\n",
      "Cannot move to target thread (0x2524edf0)\n",
      "\n",
      "QObject::moveToThread: Current thread (0x2524edf0) is not the object's thread (0x244d1b80).\n",
      "Cannot move to target thread (0x2524edf0)\n",
      "\n",
      "QObject::moveToThread: Current thread (0x2524edf0) is not the object's thread (0x244d1b80).\n",
      "Cannot move to target thread (0x2524edf0)\n",
      "\n",
      "QObject::moveToThread: Current thread (0x2524edf0) is not the object's thread (0x244d1b80).\n",
      "Cannot move to target thread (0x2524edf0)\n",
      "\n",
      "QObject::moveToThread: Current thread (0x2524edf0) is not the object's thread (0x244d1b80).\n",
      "Cannot move to target thread (0x2524edf0)\n",
      "\n",
      "QObject::moveToThread: Current thread (0x2524edf0) is not the object's thread (0x244d1b80).\n",
      "Cannot move to target thread (0x2524edf0)\n",
      "\n",
      "QObject::moveToThread: Current thread (0x2524edf0) is not the object's thread (0x244d1b80).\n",
      "Cannot move to target thread (0x2524edf0)\n",
      "\n",
      "QObject::moveToThread: Current thread (0x2524edf0) is not the object's thread (0x244d1b80).\n",
      "Cannot move to target thread (0x2524edf0)\n",
      "\n",
      "QObject::moveToThread: Current thread (0x2524edf0) is not the object's thread (0x244d1b80).\n",
      "Cannot move to target thread (0x2524edf0)\n",
      "\n",
      "QObject::moveToThread: Current thread (0x2524edf0) is not the object's thread (0x244d1b80).\n",
      "Cannot move to target thread (0x2524edf0)\n",
      "\n",
      "QObject::moveToThread: Current thread (0x2524edf0) is not the object's thread (0x244d1b80).\n",
      "Cannot move to target thread (0x2524edf0)\n",
      "\n",
      "QObject::moveToThread: Current thread (0x2524edf0) is not the object's thread (0x244d1b80).\n",
      "Cannot move to target thread (0x2524edf0)\n",
      "\n",
      "QObject::moveToThread: Current thread (0x2524edf0) is not the object's thread (0x244d1b80).\n",
      "Cannot move to target thread (0x2524edf0)\n",
      "\n",
      "QObject::moveToThread: Current thread (0x2524edf0) is not the object's thread (0x244d1b80).\n",
      "Cannot move to target thread (0x2524edf0)\n",
      "\n",
      "QObject::moveToThread: Current thread (0x2524edf0) is not the object's thread (0x244d1b80).\n",
      "Cannot move to target thread (0x2524edf0)\n",
      "\n",
      "QObject::moveToThread: Current thread (0x2524edf0) is not the object's thread (0x244d1b80).\n",
      "Cannot move to target thread (0x2524edf0)\n",
      "\n",
      "QObject::moveToThread: Current thread (0x2524edf0) is not the object's thread (0x244d1b80).\n",
      "Cannot move to target thread (0x2524edf0)\n",
      "\n",
      "QObject::moveToThread: Current thread (0x2524edf0) is not the object's thread (0x244d1b80).\n",
      "Cannot move to target thread (0x2524edf0)\n",
      "\n",
      "QObject::moveToThread: Current thread (0x2524edf0) is not the object's thread (0x244d1b80).\n",
      "Cannot move to target thread (0x2524edf0)\n",
      "\n",
      "QObject::moveToThread: Current thread (0x2524edf0) is not the object's thread (0x244d1b80).\n",
      "Cannot move to target thread (0x2524edf0)\n",
      "\n",
      "QObject::moveToThread: Current thread (0x2524edf0) is not the object's thread (0x244d1b80).\n",
      "Cannot move to target thread (0x2524edf0)\n",
      "\n",
      "QObject::moveToThread: Current thread (0x2524edf0) is not the object's thread (0x244d1b80).\n",
      "Cannot move to target thread (0x2524edf0)\n",
      "\n"
     ]
    }
   ],
   "source": [
    "video_file = '30 Minutes of Cars Driving By in 2009 [e_WBuBqS9h8].webm'\n",
    "capture = cv.VideoCapture(video_file)\n",
    "fps = FPS().start()\n",
    "frameTime = 10\n",
    "\n",
    "while True:\n",
    "    isTrue, frame = capture.read()\n",
    "    img_f = np.array(frame)\n",
    "    img_v = img_f.copy()\n",
    "    input_tensor = np.expand_dims(img_v,0)\n",
    "    input_tensor = tf.convert_to_tensor(input_tensor, dtype=tf.float32)\n",
    "    detections = visualizer_func_helper(input_tensor)\n",
    "    out = visualize(frame, detections)\n",
    "    cv.imshow('vid',out)\n",
    "#     cv.waitKey(1)\n",
    "    if cv.waitKey(1) & 0xFF == ord('d'):\n",
    "        break\n",
    "    \n",
    "\n",
    "\n",
    "capture.release()\n",
    "cv.destroyAllWindows()"
   ]
  }
 ],
 "metadata": {
  "accelerator": "GPU",
  "celltoolbar": "Initialization Cell",
  "colab": {
   "collapsed_sections": [
    "zvgFFhzC1W8-",
    "e45b0df7",
    "AbNnVSv-SGMY",
    "03ff4b30",
    "90255058",
    "7626ef0f",
    "36778166",
    "d4158c02",
    "e7c0affc",
    "NlrimFwMH7_2",
    "w4JL-dbfJZ6w",
    "24pQRjd1Jctf",
    "ahXB7SHAKnPC"
   ],
   "provenance": []
  },
  "kernelspec": {
   "display_name": "Python 3 (ipykernel)",
   "language": "python",
   "name": "python3"
  },
  "language_info": {
   "codemirror_mode": {
    "name": "ipython",
    "version": 3
   },
   "file_extension": ".py",
   "mimetype": "text/x-python",
   "name": "python",
   "nbconvert_exporter": "python",
   "pygments_lexer": "ipython3",
   "version": "3.9.13"
  },
  "notify_time": "5",
  "toc": {
   "base_numbering": 1,
   "nav_menu": {},
   "number_sections": false,
   "sideBar": false,
   "skip_h1_title": false,
   "title_cell": "Table of Contents",
   "title_sidebar": "Contents",
   "toc_cell": false,
   "toc_position": {
    "height": "439.75px",
    "left": "10px",
    "top": "150px",
    "width": "285.867px"
   },
   "toc_section_display": false,
   "toc_window_display": false
  },
  "varInspector": {
   "cols": {
    "lenName": 16,
    "lenType": 16,
    "lenVar": 40
   },
   "kernels_config": {
    "python": {
     "delete_cmd_postfix": "",
     "delete_cmd_prefix": "del ",
     "library": "var_list.py",
     "varRefreshCmd": "print(var_dic_list())"
    },
    "r": {
     "delete_cmd_postfix": ") ",
     "delete_cmd_prefix": "rm(",
     "library": "var_list.r",
     "varRefreshCmd": "cat(var_dic_list()) "
    }
   },
   "types_to_exclude": [
    "module",
    "function",
    "builtin_function_or_method",
    "instance",
    "_Feature"
   ],
   "window_display": false
  }
 },
 "nbformat": 4,
 "nbformat_minor": 5
}
