{
  "cells": [
    {
      "cell_type": "markdown",
      "source": [
        "# Assign Sheet's variables"
      ],
      "metadata": {
        "id": "ue4TH_1bQl2C"
      },
      "id": "ue4TH_1bQl2C"
    },
    {
      "cell_type": "code",
      "source": [
        "SPREADSHEET_ID = \"1ZhMBwrAzyMlc2L9RXfAvXmXdEvR5BDeHX_H1-bgpIUw\"\n",
        "subSheetName = \"businesses\""
      ],
      "metadata": {
        "id": "kGpNxEj7BrKL"
      },
      "id": "kGpNxEj7BrKL",
      "execution_count": null,
      "outputs": []
    },
    {
      "cell_type": "markdown",
      "source": [
        "# Create Indices file"
      ],
      "metadata": {
        "id": "NcVmeDVq_DyQ"
      },
      "id": "NcVmeDVq_DyQ"
    },
    {
      "cell_type": "code",
      "source": [
        "!touch indices.json"
      ],
      "metadata": {
        "id": "W0ViahbW-b2V"
      },
      "id": "W0ViahbW-b2V",
      "execution_count": null,
      "outputs": []
    },
    {
      "cell_type": "markdown",
      "source": [
        "# Process Data"
      ],
      "metadata": {
        "id": "cGHKD7PLl-UZ"
      },
      "id": "cGHKD7PLl-UZ"
    },
    {
      "cell_type": "code",
      "execution_count": null,
      "id": "5b8901ae",
      "metadata": {
        "ExecuteTime": {
          "end_time": "2024-12-06T05:17:26.579790Z",
          "start_time": "2024-12-06T05:17:26.568491Z"
        },
        "id": "5b8901ae"
      },
      "outputs": [],
      "source": [
        "import json\n",
        "import pandas as pd\n",
        "\n",
        "input_file = \"./indices.json\"\n",
        "with open(input_file, 'r') as file:\n",
        "    data = json.load(file)"
      ]
    },
    {
      "cell_type": "code",
      "execution_count": null,
      "id": "b73cc199",
      "metadata": {
        "ExecuteTime": {
          "end_time": "2024-12-06T05:17:26.851512Z",
          "start_time": "2024-12-06T05:17:26.837842Z"
        },
        "id": "b73cc199"
      },
      "outputs": [],
      "source": [
        "rows = []\n",
        "for index_name, keys in data.items():\n",
        "    row = [index_name]\n",
        "    for key, value in keys.items():\n",
        "        row.append(f\"{key}{'-' if value == -1 else ''}\")  # Prefix '-' if value is -1\n",
        "    rows.append(row)\n",
        "\n",
        "max_columns = max(len(row) for row in rows)\n",
        "\n",
        "rows = [row + [''] * (max_columns - len(row)) for row in rows]"
      ]
    },
    {
      "cell_type": "code",
      "execution_count": null,
      "id": "5f97c81c",
      "metadata": {
        "ExecuteTime": {
          "end_time": "2024-12-06T05:17:27.464771Z",
          "start_time": "2024-12-06T05:17:27.452574Z"
        },
        "id": "5f97c81c"
      },
      "outputs": [],
      "source": [
        "columns = ['Index Name'] + [f\"Key{i+1}\" for i in range(max_columns - 1)]\n",
        "indices = pd.DataFrame(rows, columns=columns)"
      ]
    },
    {
      "cell_type": "code",
      "execution_count": null,
      "id": "b4dbea5c",
      "metadata": {
        "ExecuteTime": {
          "end_time": "2024-12-06T05:17:33.043627Z",
          "start_time": "2024-12-06T05:17:33.025099Z"
        },
        "id": "b4dbea5c"
      },
      "outputs": [],
      "source": [
        "indices.sort_values(\n",
        "    by=columns[1:],\n",
        "    key=lambda col: col.str.rstrip('-'),\n",
        "    ignore_index=True,\n",
        "    inplace=True\n",
        ")\n"
      ]
    },
    {
      "cell_type": "code",
      "execution_count": null,
      "id": "8ba5f611",
      "metadata": {
        "ExecuteTime": {
          "end_time": "2024-12-06T05:23:14.876882Z",
          "start_time": "2024-12-06T05:23:14.866350Z"
        },
        "id": "8ba5f611"
      },
      "outputs": [],
      "source": [
        "singleIndexCount = len(indices[indices['Key2'] == \"\"])\n",
        "compoundIndexCount = len(indices[indices['Key2'] != \"\"])"
      ]
    },
    {
      "cell_type": "code",
      "execution_count": null,
      "id": "fde59d03",
      "metadata": {
        "ExecuteTime": {
          "end_time": "2024-12-06T05:28:24.470087Z",
          "start_time": "2024-12-06T05:28:24.459807Z"
        },
        "id": "fde59d03"
      },
      "outputs": [],
      "source": [
        "indices['singleIndexCount'] = [singleIndexCount] + [\"\"] * (len(indices) - 1)\n",
        "indices['compoundIndexCount'] = [compoundIndexCount] + [\"\"] * (len(indices) - 1)"
      ]
    },
    {
      "cell_type": "markdown",
      "source": [
        "# Export Data"
      ],
      "metadata": {
        "id": "2TMHOnpqpIIQ"
      },
      "id": "2TMHOnpqpIIQ"
    },
    {
      "cell_type": "code",
      "execution_count": null,
      "id": "9eab3ec2",
      "metadata": {
        "ExecuteTime": {
          "end_time": "2024-12-06T05:30:00.312539Z",
          "start_time": "2024-12-06T05:30:00.299530Z"
        },
        "id": "9eab3ec2"
      },
      "outputs": [],
      "source": [
        "# output_path = \"./indices.csv\"\n",
        "# indices.to_csv(output_path, index=False)"
      ]
    },
    {
      "cell_type": "markdown",
      "source": [
        "# Update spreadSheet"
      ],
      "metadata": {
        "id": "IY6v5XhzlxTQ"
      },
      "id": "IY6v5XhzlxTQ"
    },
    {
      "cell_type": "code",
      "source": [
        "from googleapiclient.discovery import build\n",
        "from google.auth import default\n",
        "from google.colab import auth\n",
        "auth.authenticate_user()\n",
        "\n",
        "\n",
        "creds, _ = default()\n",
        "service = build('sheets', 'v4', credentials=creds)\n",
        "\n",
        "data = indices.values.tolist()\n",
        "data.insert(0, indices.columns.tolist())\n",
        "\n",
        "\n",
        "body = {\n",
        "    'values': data\n",
        "}\n",
        "service.spreadsheets().values().update(\n",
        "    spreadsheetId=SPREADSHEET_ID,\n",
        "    range=subSheetName,\n",
        "    valueInputOption=\"USER_ENTERED\",\n",
        "    body=body\n",
        ").execute()\n",
        "\n",
        "print(\"Google Sheet updated successfully!\")"
      ],
      "metadata": {
        "colab": {
          "base_uri": "https://localhost:8080/"
        },
        "id": "No-FkZwPmoGS",
        "outputId": "5d9724b9-97fc-4b99-bde5-da1284b04a7b"
      },
      "id": "No-FkZwPmoGS",
      "execution_count": null,
      "outputs": [
        {
          "output_type": "stream",
          "name": "stdout",
          "text": [
            "Google Sheet updated successfully!\n"
          ]
        }
      ]
    },
    {
      "cell_type": "markdown",
      "source": [
        "# Highlight index names with similar Key1"
      ],
      "metadata": {
        "id": "-ljhjFBH_zeh"
      },
      "id": "-ljhjFBH_zeh"
    },
    {
      "cell_type": "code",
      "source": [
        "split_indices = indices['Key1'].str.rsplit('-', n=1).str[0]\n",
        "\n",
        "duplicatedIndices = split_indices[split_indices.duplicated()].unique()"
      ],
      "metadata": {
        "id": "HUe9RiDKAt3s"
      },
      "id": "HUe9RiDKAt3s",
      "execution_count": null,
      "outputs": []
    },
    {
      "cell_type": "code",
      "source": [
        "import colorsys\n",
        "\n",
        "def generate_distinct_colors(num_colors):\n",
        "    colors = []\n",
        "    for i in range(num_colors):\n",
        "        hue = i / num_colors\n",
        "        lightness = 0.6\n",
        "        saturation = 0.8\n",
        "        rgb = colorsys.hls_to_rgb(hue, lightness, saturation)\n",
        "        colors.append('{:02X}{:02X}{:02X}'.format(int(rgb[0] * 255), int(rgb[1] * 255), int(rgb[2] * 255)))\n",
        "    return colors\n"
      ],
      "metadata": {
        "id": "dlj30pMw_3JB"
      },
      "id": "dlj30pMw_3JB",
      "execution_count": null,
      "outputs": []
    },
    {
      "cell_type": "code",
      "source": [
        "from googleapiclient.discovery import build\n",
        "\n",
        "spreadsheet = service.spreadsheets().get(spreadsheetId=SPREADSHEET_ID).execute()\n",
        "sheets = spreadsheet.get('sheets', [])\n",
        "sheet_id = None\n",
        "\n",
        "for sheet in sheets:\n",
        "    if sheet['properties']['title'] == subSheetName:\n",
        "        sheet_id = sheet['properties']['sheetId']\n",
        "        break\n",
        "\n",
        "if sheet_id is None:\n",
        "    raise ValueError(f\"Sheet '{subSheetName}' not found in the spreadsheet.\")\n",
        "\n",
        "\n",
        "sheet_data = service.spreadsheets().values().get(spreadsheetId=SPREADSHEET_ID, range=subSheetName).execute()\n",
        "rows = sheet_data.get('values', [])\n",
        "\n",
        "\n",
        "key1_colors = {}\n",
        "\n",
        "# Define a distinct color palette\n",
        "color_palette = generate_distinct_colors(len(duplicatedIndices))\n",
        "\n",
        "\n",
        "key1_colors = {}\n",
        "requests = []\n",
        "start_row = 1\n",
        "\n",
        "\n",
        "for row_idx, row in enumerate(rows[start_row:], start=start_row):\n",
        "    if len(row) > 1:\n",
        "      key1_value = row[1].rstrip('-').strip()\n",
        "      if key1_value in duplicatedIndices:  # Ensure there's a value in the Key1 column\n",
        "          if key1_value not in key1_colors:\n",
        "              key1_colors[key1_value] = color_palette[len(key1_colors) % len(color_palette)]\n",
        "\n",
        "          # Convert hex color to RGB\n",
        "          color_hex = key1_colors[key1_value]\n",
        "          red = int(color_hex[0:2], 16) / 255\n",
        "          green = int(color_hex[2:4], 16) / 255\n",
        "          blue = int(color_hex[4:6], 16) / 255\n",
        "\n",
        "          # Create request for updating background color\n",
        "          requests.append({\n",
        "              'updateCells': {\n",
        "                  'rows': [{\n",
        "                      'values': [{\n",
        "                          'userEnteredFormat': {\n",
        "                              'backgroundColor': {\n",
        "                                  'red': red,\n",
        "                                  'green': green,\n",
        "                                  'blue': blue,\n",
        "                              }\n",
        "                          }\n",
        "                      }]\n",
        "                  }],\n",
        "                  'fields': 'userEnteredFormat.backgroundColor',\n",
        "                  'range': {\n",
        "                      'sheetId': sheet_id,\n",
        "                      'startRowIndex': row_idx,\n",
        "                      'endRowIndex': row_idx+1,\n",
        "                      'startColumnIndex': 0,\n",
        "                      'endColumnIndex': 1,  # Adjust as necessary\n",
        "                  }\n",
        "              }\n",
        "          })\n",
        "      else:\n",
        "        requests.append({\n",
        "                'updateCells': {\n",
        "                    'rows': [{\n",
        "                        'values': [{\n",
        "                            'userEnteredFormat': {\n",
        "                                'backgroundColor': {\n",
        "                                    'red': 1,\n",
        "                                    'green': 1,\n",
        "                                    'blue': 1,\n",
        "                                }\n",
        "                            }\n",
        "                        }]\n",
        "                    }],\n",
        "                    'fields': 'userEnteredFormat.backgroundColor',\n",
        "                    'range': {\n",
        "                        'sheetId': sheet_id,\n",
        "                        'startRowIndex': row_idx,\n",
        "                        'endRowIndex': row_idx+1,\n",
        "                        'startColumnIndex': 0,\n",
        "                        'endColumnIndex': 1,  # Adjust as necessary\n",
        "                    }\n",
        "                }\n",
        "            })\n",
        "\n",
        "body = {'requests': requests}\n"
      ],
      "metadata": {
        "id": "K-1USFqt_6pC"
      },
      "id": "K-1USFqt_6pC",
      "execution_count": null,
      "outputs": []
    },
    {
      "cell_type": "code",
      "source": [
        "%%capture\n",
        "service.spreadsheets().batchUpdate(spreadsheetId=SPREADSHEET_ID, body=body).execute()"
      ],
      "metadata": {
        "id": "B9SM-BXT_9Sg"
      },
      "id": "B9SM-BXT_9Sg",
      "execution_count": null,
      "outputs": []
    },
    {
      "cell_type": "code",
      "source": [
        "sheet_url = f\"https://docs.google.com/spreadsheets/d/{SPREADSHEET_ID}/edit#gid={sheet_id}\"\n",
        "print(f\"Sheet URL: {sheet_url}\")"
      ],
      "metadata": {
        "colab": {
          "base_uri": "https://localhost:8080/"
        },
        "id": "BahQrVTCBNum",
        "outputId": "80659eae-7371-4d51-d964-47494e8619b8"
      },
      "id": "BahQrVTCBNum",
      "execution_count": null,
      "outputs": [
        {
          "output_type": "stream",
          "name": "stdout",
          "text": [
            "Sheet URL: https://docs.google.com/spreadsheets/d/1ZhMBwrAzyMlc2L9RXfAvXmXdEvR5BDeHX_H1-bgpIUw/edit#gid=1617756355\n"
          ]
        }
      ]
    }
  ],
  "metadata": {
    "kernelspec": {
      "display_name": "Python 3 (ipykernel)",
      "language": "python",
      "name": "python3"
    },
    "language_info": {
      "codemirror_mode": {
        "name": "ipython",
        "version": 3
      },
      "file_extension": ".py",
      "mimetype": "text/x-python",
      "name": "python",
      "nbconvert_exporter": "python",
      "pygments_lexer": "ipython3",
      "version": "3.9.18"
    },
    "latex_envs": {
      "LaTeX_envs_menu_present": true,
      "autoclose": true,
      "autocomplete": true,
      "bibliofile": "biblio.bib",
      "cite_by": "apalike",
      "current_citInitial": 1,
      "eqLabelWithNumbers": true,
      "eqNumInitial": 1,
      "hotkeys": {
        "equation": "Ctrl-E",
        "itemize": "Ctrl-I"
      },
      "labels_anchors": false,
      "latex_user_defs": false,
      "report_style_numbering": false,
      "user_envs_cfg": false
    },
    "toc": {
      "base_numbering": 1,
      "nav_menu": {},
      "number_sections": true,
      "sideBar": true,
      "skip_h1_title": false,
      "title_cell": "Table of Contents",
      "title_sidebar": "Contents",
      "toc_cell": false,
      "toc_position": {},
      "toc_section_display": true,
      "toc_window_display": false
    },
    "varInspector": {
      "cols": {
        "lenName": 16,
        "lenType": 16,
        "lenVar": 40
      },
      "kernels_config": {
        "python": {
          "delete_cmd_postfix": "",
          "delete_cmd_prefix": "del ",
          "library": "var_list.py",
          "varRefreshCmd": "print(var_dic_list())"
        },
        "r": {
          "delete_cmd_postfix": ") ",
          "delete_cmd_prefix": "rm(",
          "library": "var_list.r",
          "varRefreshCmd": "cat(var_dic_list()) "
        }
      },
      "types_to_exclude": [
        "module",
        "function",
        "builtin_function_or_method",
        "instance",
        "_Feature"
      ],
      "window_display": false
    },
    "colab": {
      "provenance": [],
      "collapsed_sections": [
        "cGHKD7PLl-UZ"
      ]
    }
  },
  "nbformat": 4,
  "nbformat_minor": 5
}