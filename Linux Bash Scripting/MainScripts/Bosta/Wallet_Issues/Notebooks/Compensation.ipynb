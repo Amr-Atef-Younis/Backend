{
 "cells": [
  {
   "cell_type": "code",
   "execution_count": 14,
   "metadata": {},
   "outputs": [],
   "source": [
    "import pandas as pd\n",
    "import os\n",
    "import sys\n",
    "import tabulate"
   ]
  },
  {
   "cell_type": "code",
   "execution_count": null,
   "metadata": {},
   "outputs": [],
   "source": [
    "# import subprocess\n",
    "# encoding = 'utf-8'\n",
    "# Process_comp = 'zenity --entry --text=\"Enter Business ID\"'\n",
    "# comp = subprocess.check_output(Process_comp, shell=True)\n",
    "# comp = str(comp, encoding).splitlines()[0]\n",
    "# path = '/mnt/F/Bosta/Routine/'"
   ]
  },
  {
   "cell_type": "code",
   "execution_count": 4,
   "metadata": {},
   "outputs": [],
   "source": [
    "path = str(sys.argv[1]) + '/Compensations/'\n",
    "# path = \"/mnt/F/Bosta/Routine/Sunday 28-01-2024/JUOwkwNej8Xbl1XI7MBIw/\"\n",
    "compen_path = path+\"Compensations/\"\n",
    "files = os.listdir(compen_path)"
   ]
  },
  {
   "cell_type": "code",
   "execution_count": 5,
   "metadata": {},
   "outputs": [],
   "source": [
    "orders = []\n",
    "compensations = []\n",
    "sum = 0\n",
    "order_dic = {}\n",
    "for f in files:\n",
    "    if not ('lock' in f or 'all' in f):\n",
    "        id = str(f.split('.')[0])\n",
    "        data = pd.read_excel(f\"{compen_path+f}\")\n",
    "        sum += data['Compensation Amount'].round(3).sum()\n",
    "        ls = data['Order ID'].astype(str).to_list()\n",
    "        orders += ls\n",
    "        compensations += [id, len(ls)]\n",
    "        for order_id, value in zip(data['Order ID'].astype(str).to_list(), data['Compensation Amount'].round(3)):\n",
    "            order_dic[order_id] = value if not order_id in list(order_dic.keys()) else order_dic[order_id] + value\n",
    "\n",
    "business_name = data['Business Name'].values[0]\n",
    "order_list = list(order_dic.items())\n",
    "order_list.sort()"
   ]
  },
  {
   "cell_type": "code",
   "execution_count": 8,
   "metadata": {},
   "outputs": [],
   "source": [
    "batch_path = path+\"all.xlsx\"\n",
    "batch = pd.read_excel(batch_path)"
   ]
  },
  {
   "cell_type": "code",
   "execution_count": null,
   "metadata": {},
   "outputs": [],
   "source": [
    "business_comp = batch[batch['BUSINESS'] == business_name] "
   ]
  },
  {
   "cell_type": "code",
   "execution_count": null,
   "metadata": {},
   "outputs": [],
   "source": [
    "x1 = [(str(i),float(j)) for i,j in zip(business_comp['ORDER ID'].to_list(), business_comp['AMOUNT'].to_list())]\n",
    "x1.sort()"
   ]
  },
  {
   "cell_type": "code",
   "execution_count": 13,
   "metadata": {},
   "outputs": [],
   "source": [
    "import logging\n",
    "\n",
    "logger = logging.getLogger(__name__)\n",
    "\n",
    "FileHandler = logging.FileHandler(f'{path+\"compensation.log\"}',mode='w')\n",
    "\n",
    "Formatter = logging.Formatter('%(message)s')\n",
    "\n",
    "FileHandler.setFormatter(Formatter)\n",
    "\n",
    "logger.setLevel(logging.INFO)"
   ]
  },
  {
   "cell_type": "code",
   "execution_count": null,
   "metadata": {},
   "outputs": [],
   "source": [
    "linked_compensations = pd.DataFrame(compensations,columns=['Compensation ID', 'Number of Orders'])\n",
    "\n",
    "logger.info(tabulate(linked_compensations, headers='keys', tablefmt='fancy_grid',colalign=tuple([\"center\"]*linked_compensations.shape[1]),showindex='never'))\n",
    "logger.info(f'\\nB`atch-Individual\\t=\\t{set(x1)-set(order_list)}\\t\\tIndividual-Batch\\t=\\t{set(order_list)-set(x1)}')\n",
    "logger.info(f'# of Duplicate compensation\\t=\\t{len(set(orders))-len(orders)}')\n",
    "logger.info(f'Total compensation\\t=\\t{round(sum,2)}')"
   ]
  },
  {
   "cell_type": "code",
   "execution_count": null,
   "metadata": {},
   "outputs": [],
   "source": [
    "# pd.DataFrame(compensations,columns=['Compensation ID', 'Number of Orders'])\\\n",
    "#     .to_excel(f'{path+\"linked_compensations.xlsx\"}', index=False)"
   ]
  },
  {
   "cell_type": "code",
   "execution_count": null,
   "metadata": {},
   "outputs": [],
   "source": [
    "len(orders), len(set(orders)), round(sum,2)"
   ]
  },
  {
   "cell_type": "code",
   "execution_count": 7,
   "metadata": {},
   "outputs": [],
   "source": [
    "m = set((1,2,3))"
   ]
  },
  {
   "cell_type": "code",
   "execution_count": 9,
   "metadata": {},
   "outputs": [],
   "source": [
    "z = list(m)"
   ]
  },
  {
   "cell_type": "code",
   "execution_count": 10,
   "metadata": {},
   "outputs": [
    {
     "data": {
      "text/plain": [
       "3"
      ]
     },
     "execution_count": 10,
     "metadata": {},
     "output_type": "execute_result"
    }
   ],
   "source": [
    "z.pop()"
   ]
  },
  {
   "cell_type": "code",
   "execution_count": null,
   "metadata": {},
   "outputs": [],
   "source": []
  }
 ],
 "metadata": {
  "kernelspec": {
   "display_name": "base",
   "language": "python",
   "name": "python3"
  },
  "language_info": {
   "codemirror_mode": {
    "name": "ipython",
    "version": 3
   },
   "file_extension": ".py",
   "mimetype": "text/x-python",
   "name": "python",
   "nbconvert_exporter": "python",
   "pygments_lexer": "ipython3",
   "version": "3.9.18"
  }
 },
 "nbformat": 4,
 "nbformat_minor": 2
}
