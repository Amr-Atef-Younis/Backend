{
 "cells": [
  {
   "cell_type": "code",
   "execution_count": 1,
   "metadata": {},
   "outputs": [],
   "source": [
    "import pandas as pd \n",
    "import numpy as np\n",
    "# import datetime\n",
    "import logging\n",
    "from tabulate import tabulate\n",
    "import sys"
   ]
  },
  {
   "cell_type": "code",
   "execution_count": 3,
   "metadata": {},
   "outputs": [],
   "source": [
    "file = \"/home/amr/Desktop/Downloads_From_Internet/26-01-2024-18_35_47.xlsx\"\n",
    "# final = \"40 SAR\"\n",
    "# file = sys.argv[1]\n",
    "# final = sys.argv[2]"
   ]
  },
  {
   "cell_type": "code",
   "execution_count": 4,
   "metadata": {},
   "outputs": [],
   "source": [
    "logger = logging.getLogger(__name__)\n",
    "logger.setLevel(logging.INFO)\n",
    "\n",
    "Formatter = logging.Formatter('%(message)s')\n",
    "\n",
    "FileHandler = logging.FileHandler(f\"{file.rsplit('/',1)[0]}/out.log\")\n",
    "FileHandler.setFormatter(Formatter)\n",
    "\n",
    "logger.addHandler(FileHandler)\n",
    "\n"
   ]
  },
  {
   "cell_type": "code",
   "execution_count": 5,
   "metadata": {},
   "outputs": [],
   "source": [
    "pd.set_option('display.colheader_justify','center')\n",
    "pd.set_option('display.width', 400)\n",
    "pd.set_option('display.expand_frame_repr', False)\n"
   ]
  },
  {
   "cell_type": "code",
   "execution_count": 6,
   "metadata": {},
   "outputs": [],
   "source": [
    "data = pd.read_excel(file)\n",
    "data['Date'] = pd.to_datetime(data['Date']).dt.date\n",
    "# data = data[data['Date'] >= datetime.date(year=2023,month=11, day=1)]"
   ]
  },
  {
   "cell_type": "code",
   "execution_count": 7,
   "metadata": {},
   "outputs": [
    {
     "data": {
      "text/plain": [
       "40.0"
      ]
     },
     "execution_count": 7,
     "metadata": {},
     "output_type": "execute_result"
    }
   ],
   "source": [
    "f_balance = round(float(final.split()[0].replace(',','')),3)\n",
    "f_balance"
   ]
  },
  {
   "cell_type": "code",
   "execution_count": 8,
   "metadata": {},
   "outputs": [],
   "source": [
    "idx_dic = {\n",
    "    'Free Credit': '1',\n",
    "    'Cash Out': '2',\n",
    "    'Balance Adjustment': '3',\n",
    "    'Compensation': '4',\n",
    "    'Cash Collection Cycle': '5',\n",
    "    'Bosta Fees Cycle': '6',\n",
    " }"
   ]
  },
  {
   "cell_type": "code",
   "execution_count": 11,
   "metadata": {},
   "outputs": [],
   "source": [
    "data['Category'].replace(idx_dic,inplace=True)\n",
    "datax = data.sort_values(by=['Date','Category','Transactions ID'])\n",
    "datax.reset_index(drop=True,inplace=True)\n",
    "swapped_dict = {value: key for key, value in idx_dic.items()}\n",
    "datax.replace(swapped_dict,inplace=True)"
   ]
  },
  {
   "cell_type": "code",
   "execution_count": 12,
   "metadata": {},
   "outputs": [
    {
     "data": {
      "text/plain": [
       "-6813.0"
      ]
     },
     "execution_count": 12,
     "metadata": {},
     "output_type": "execute_result"
    }
   ],
   "source": [
    "# datax['Balance'], datax['Amount'] = datax['Balance'], datax['Amount']\n",
    "\n",
    "balance = datax['Balance'].round(3).to_list()\n",
    "amount = datax['Amount'].round(3).to_list()\n",
    "lookout = round(f_balance - balance[-1],3)\n",
    "lookout"
   ]
  },
  {
   "cell_type": "code",
   "execution_count": 13,
   "metadata": {},
   "outputs": [],
   "source": [
    "%%capture\n",
    "diff = 0\n",
    "# date_IDs = []\n",
    "for a,b,c,d in zip(amount[1:],balance[:-1],balance[1:],datax['Transactions ID'].to_list()[1:]):\n",
    "    sum = round(a + b,3)\n",
    "    c = round(c,3)\n",
    "    if sum == c:\n",
    "        continue\n",
    "    else:\n",
    "        entry = datax[datax['Transactions ID'] == d]\n",
    "        index = entry.index[0]\n",
    "        out = entry.copy()\n",
    "        if index - 1 >= 0:\n",
    "            out = pd.concat([out,datax.iloc[index - 1].to_frame().T])# , ignore_index = True)\n",
    "        if index + 1 < len(datax):\n",
    "            out = pd.concat([datax.iloc[index + 1].to_frame().T, out])# , ignore_index = True)\n",
    "\n",
    "\n",
    "        \n",
    "        diff += round(sum - c,3)\n",
    "        # if diff == lookout:\n",
    "        # logger.info(entry['Transactions ID'].values[0])\n",
    "        logger.info(f\"\\n\\nCorrect sum = {sum}\\t\\tDifference = {round(sum - c,3)}\\t\\t Cumalitive Difference = {diff}\")\n",
    "        logger.info(f\"{a},{b},{sum},{c}\")\n",
    "        logger.info(tabulate(out, headers='keys', tablefmt='fancy_grid',colalign=tuple([\"center\"]*entry.shape[1]),showindex='never'))\n",
    "        # date_IDs.append((entry['Transactions ID'].values[0], str(entry['Date'].values[0]), diff))\n",
    "        \n",
    "        "
   ]
  },
  {
   "cell_type": "code",
   "execution_count": null,
   "metadata": {},
   "outputs": [],
   "source": [
    "# f_balance == round(diff + balance[-1],3)\n",
    "# diff, f_balance - balance[-1]"
   ]
  },
  {
   "cell_type": "code",
   "execution_count": null,
   "metadata": {},
   "outputs": [],
   "source": []
  }
 ],
 "metadata": {
  "kernelspec": {
   "display_name": "Python 3 (ipykernel)",
   "language": "python",
   "name": "python3"
  },
  "language_info": {
   "codemirror_mode": {
    "name": "ipython",
    "version": 3
   },
   "file_extension": ".py",
   "mimetype": "text/x-python",
   "name": "python",
   "nbconvert_exporter": "python",
   "pygments_lexer": "ipython3",
   "version": "3.9.18"
  },
  "latex_envs": {
   "LaTeX_envs_menu_present": true,
   "autoclose": true,
   "autocomplete": true,
   "bibliofile": "biblio.bib",
   "cite_by": "apalike",
   "current_citInitial": 1,
   "eqLabelWithNumbers": true,
   "eqNumInitial": 1,
   "hotkeys": {
    "equation": "Ctrl-E",
    "itemize": "Ctrl-I"
   },
   "labels_anchors": false,
   "latex_user_defs": false,
   "report_style_numbering": false,
   "user_envs_cfg": false
  },
  "toc": {
   "base_numbering": 1,
   "nav_menu": {},
   "number_sections": true,
   "sideBar": true,
   "skip_h1_title": false,
   "title_cell": "Table of Contents",
   "title_sidebar": "Contents",
   "toc_cell": false,
   "toc_position": {},
   "toc_section_display": true,
   "toc_window_display": false
  },
  "varInspector": {
   "cols": {
    "lenName": 16,
    "lenType": 16,
    "lenVar": 40
   },
   "kernels_config": {
    "python": {
     "delete_cmd_postfix": "",
     "delete_cmd_prefix": "del ",
     "library": "var_list.py",
     "varRefreshCmd": "print(var_dic_list())"
    },
    "r": {
     "delete_cmd_postfix": ") ",
     "delete_cmd_prefix": "rm(",
     "library": "var_list.r",
     "varRefreshCmd": "cat(var_dic_list()) "
    }
   },
   "types_to_exclude": [
    "module",
    "function",
    "builtin_function_or_method",
    "instance",
    "_Feature"
   ],
   "window_display": false
  }
 },
 "nbformat": 4,
 "nbformat_minor": 4
}
